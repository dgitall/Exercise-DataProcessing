{
 "cells": [
  {
   "cell_type": "code",
   "execution_count": 47,
   "id": "1287cfa9-db53-4337-94e6-cdc3fe9d47a5",
   "metadata": {},
   "outputs": [
    {
     "data": {
      "text/html": [
       "<div>\n",
       "<style scoped>\n",
       "    .dataframe tbody tr th:only-of-type {\n",
       "        vertical-align: middle;\n",
       "    }\n",
       "\n",
       "    .dataframe tbody tr th {\n",
       "        vertical-align: top;\n",
       "    }\n",
       "\n",
       "    .dataframe thead th {\n",
       "        text-align: right;\n",
       "    }\n",
       "</style>\n",
       "<table border=\"1\" class=\"dataframe\">\n",
       "  <thead>\n",
       "    <tr style=\"text-align: right;\">\n",
       "      <th></th>\n",
       "      <th>Pregnancies</th>\n",
       "      <th>Glucose</th>\n",
       "      <th>BloodPressure</th>\n",
       "      <th>SkinThickness</th>\n",
       "      <th>Insulin</th>\n",
       "      <th>BMI</th>\n",
       "      <th>DiabetesPedigreeFunction</th>\n",
       "      <th>Age</th>\n",
       "      <th>Outcome</th>\n",
       "    </tr>\n",
       "  </thead>\n",
       "  <tbody>\n",
       "    <tr>\n",
       "      <th>0</th>\n",
       "      <td>6</td>\n",
       "      <td>148</td>\n",
       "      <td>72</td>\n",
       "      <td>35</td>\n",
       "      <td>0</td>\n",
       "      <td>33.6</td>\n",
       "      <td>0.627</td>\n",
       "      <td>50</td>\n",
       "      <td>1</td>\n",
       "    </tr>\n",
       "    <tr>\n",
       "      <th>1</th>\n",
       "      <td>1</td>\n",
       "      <td>85</td>\n",
       "      <td>66</td>\n",
       "      <td>29</td>\n",
       "      <td>0</td>\n",
       "      <td>26.6</td>\n",
       "      <td>0.351</td>\n",
       "      <td>31</td>\n",
       "      <td>0</td>\n",
       "    </tr>\n",
       "    <tr>\n",
       "      <th>2</th>\n",
       "      <td>8</td>\n",
       "      <td>183</td>\n",
       "      <td>64</td>\n",
       "      <td>0</td>\n",
       "      <td>0</td>\n",
       "      <td>23.3</td>\n",
       "      <td>0.672</td>\n",
       "      <td>32</td>\n",
       "      <td>1</td>\n",
       "    </tr>\n",
       "    <tr>\n",
       "      <th>3</th>\n",
       "      <td>1</td>\n",
       "      <td>89</td>\n",
       "      <td>66</td>\n",
       "      <td>23</td>\n",
       "      <td>94</td>\n",
       "      <td>28.1</td>\n",
       "      <td>0.167</td>\n",
       "      <td>21</td>\n",
       "      <td>0</td>\n",
       "    </tr>\n",
       "    <tr>\n",
       "      <th>4</th>\n",
       "      <td>0</td>\n",
       "      <td>137</td>\n",
       "      <td>40</td>\n",
       "      <td>35</td>\n",
       "      <td>168</td>\n",
       "      <td>43.1</td>\n",
       "      <td>2.288</td>\n",
       "      <td>33</td>\n",
       "      <td>1</td>\n",
       "    </tr>\n",
       "  </tbody>\n",
       "</table>\n",
       "</div>"
      ],
      "text/plain": [
       "   Pregnancies  Glucose  BloodPressure  SkinThickness  Insulin   BMI  \\\n",
       "0            6      148             72             35        0  33.6   \n",
       "1            1       85             66             29        0  26.6   \n",
       "2            8      183             64              0        0  23.3   \n",
       "3            1       89             66             23       94  28.1   \n",
       "4            0      137             40             35      168  43.1   \n",
       "\n",
       "   DiabetesPedigreeFunction  Age  Outcome  \n",
       "0                     0.627   50        1  \n",
       "1                     0.351   31        0  \n",
       "2                     0.672   32        1  \n",
       "3                     0.167   21        0  \n",
       "4                     2.288   33        1  "
      ]
     },
     "execution_count": 47,
     "metadata": {},
     "output_type": "execute_result"
    }
   ],
   "source": [
    "import pandas as pd\n",
    "import numpy as np\n",
    "df = pd.read_csv('Data/diabetes.csv')\n",
    "df.head()"
   ]
  },
  {
   "cell_type": "code",
   "execution_count": 48,
   "id": "1b55b7ed-fd88-4947-b28f-9755b4323e4d",
   "metadata": {},
   "outputs": [
    {
     "name": "stdout",
     "output_type": "stream",
     "text": [
      "<class 'pandas.core.frame.DataFrame'>\n",
      "RangeIndex: 768 entries, 0 to 767\n",
      "Data columns (total 9 columns):\n",
      " #   Column                    Non-Null Count  Dtype  \n",
      "---  ------                    --------------  -----  \n",
      " 0   Pregnancies               768 non-null    int64  \n",
      " 1   Glucose                   768 non-null    int64  \n",
      " 2   BloodPressure             768 non-null    int64  \n",
      " 3   SkinThickness             768 non-null    int64  \n",
      " 4   Insulin                   768 non-null    int64  \n",
      " 5   BMI                       768 non-null    float64\n",
      " 6   DiabetesPedigreeFunction  768 non-null    float64\n",
      " 7   Age                       768 non-null    int64  \n",
      " 8   Outcome                   768 non-null    int64  \n",
      "dtypes: float64(2), int64(7)\n",
      "memory usage: 54.1 KB\n"
     ]
    }
   ],
   "source": [
    "df.info()"
   ]
  },
  {
   "cell_type": "code",
   "execution_count": 49,
   "id": "4dd5f599-aade-4e9c-b39a-d4a1496e9964",
   "metadata": {},
   "outputs": [
    {
     "data": {
      "text/plain": [
       "\" df.replace({0:None}, inplace=True)\\ndf['Outcome'].replace({None:0}, inplace=True)\\ndf['Pregnancies'].replace({None:0}, inplace=True)\\ndf.dropna(axis=0, thresh=8, inplace=True)\\ndf.replace({np.nan:0}, inplace=True) \""
      ]
     },
     "execution_count": 49,
     "metadata": {},
     "output_type": "execute_result"
    }
   ],
   "source": [
    "''' df.replace({0:None}, inplace=True)\n",
    "df['Outcome'].replace({None:0}, inplace=True)\n",
    "df['Pregnancies'].replace({None:0}, inplace=True)\n",
    "df.dropna(axis=0, thresh=8, inplace=True)\n",
    "df.replace({np.nan:0}, inplace=True) '''"
   ]
  },
  {
   "cell_type": "code",
   "execution_count": 50,
   "id": "a3795165-7b1c-43ef-8e96-e404e3e7f8a2",
   "metadata": {},
   "outputs": [],
   "source": [
    "df.head(50)\n",
    "target = df.Outcome\n",
    "inputs = df.drop('Outcome', axis='columns')"
   ]
  },
  {
   "cell_type": "code",
   "execution_count": null,
   "id": "7fe06379-a951-43fe-9933-9bc53e11cc33",
   "metadata": {},
   "outputs": [],
   "source": []
  },
  {
   "cell_type": "code",
   "execution_count": 51,
   "id": "11676c09-baac-44a9-966f-5e3eb3566418",
   "metadata": {},
   "outputs": [],
   "source": [
    "from sklearn.model_selection import train_test_split\n",
    "X_train, X_test, y_train, y_test = train_test_split(\n",
    "    inputs, target, test_size=0.3)\n"
   ]
  },
  {
   "cell_type": "code",
   "execution_count": 52,
   "id": "72764dfc",
   "metadata": {},
   "outputs": [
    {
     "name": "stderr",
     "output_type": "stream",
     "text": [
      "D:\\Users\\Darrell\\anaconda3\\lib\\site-packages\\pandas\\core\\frame.py:4906: SettingWithCopyWarning: \n",
      "A value is trying to be set on a copy of a slice from a DataFrame\n",
      "\n",
      "See the caveats in the documentation: https://pandas.pydata.org/pandas-docs/stable/user_guide/indexing.html#returning-a-view-versus-a-copy\n",
      "  return super().drop(\n",
      "C:\\Users\\Darrell\\AppData\\Local\\Temp/ipykernel_55256/2725316522.py:10: SettingWithCopyWarning: \n",
      "A value is trying to be set on a copy of a slice from a DataFrame.\n",
      "Try using .loc[row_indexer,col_indexer] = value instead\n",
      "\n",
      "See the caveats in the documentation: https://pandas.pydata.org/pandas-docs/stable/user_guide/indexing.html#returning-a-view-versus-a-copy\n",
      "  X_train[col] = imp_mean.fit_transform(\n",
      "C:\\Users\\Darrell\\AppData\\Local\\Temp/ipykernel_55256/2725316522.py:12: SettingWithCopyWarning: \n",
      "A value is trying to be set on a copy of a slice from a DataFrame.\n",
      "Try using .loc[row_indexer,col_indexer] = value instead\n",
      "\n",
      "See the caveats in the documentation: https://pandas.pydata.org/pandas-docs/stable/user_guide/indexing.html#returning-a-view-versus-a-copy\n",
      "  X_test[col] = imp_mean.fit_transform(\n",
      "C:\\Users\\Darrell\\AppData\\Local\\Temp/ipykernel_55256/2725316522.py:10: SettingWithCopyWarning: \n",
      "A value is trying to be set on a copy of a slice from a DataFrame.\n",
      "Try using .loc[row_indexer,col_indexer] = value instead\n",
      "\n",
      "See the caveats in the documentation: https://pandas.pydata.org/pandas-docs/stable/user_guide/indexing.html#returning-a-view-versus-a-copy\n",
      "  X_train[col] = imp_mean.fit_transform(\n",
      "C:\\Users\\Darrell\\AppData\\Local\\Temp/ipykernel_55256/2725316522.py:12: SettingWithCopyWarning: \n",
      "A value is trying to be set on a copy of a slice from a DataFrame.\n",
      "Try using .loc[row_indexer,col_indexer] = value instead\n",
      "\n",
      "See the caveats in the documentation: https://pandas.pydata.org/pandas-docs/stable/user_guide/indexing.html#returning-a-view-versus-a-copy\n",
      "  X_test[col] = imp_mean.fit_transform(\n",
      "C:\\Users\\Darrell\\AppData\\Local\\Temp/ipykernel_55256/2725316522.py:10: SettingWithCopyWarning: \n",
      "A value is trying to be set on a copy of a slice from a DataFrame.\n",
      "Try using .loc[row_indexer,col_indexer] = value instead\n",
      "\n",
      "See the caveats in the documentation: https://pandas.pydata.org/pandas-docs/stable/user_guide/indexing.html#returning-a-view-versus-a-copy\n",
      "  X_train[col] = imp_mean.fit_transform(\n",
      "C:\\Users\\Darrell\\AppData\\Local\\Temp/ipykernel_55256/2725316522.py:12: SettingWithCopyWarning: \n",
      "A value is trying to be set on a copy of a slice from a DataFrame.\n",
      "Try using .loc[row_indexer,col_indexer] = value instead\n",
      "\n",
      "See the caveats in the documentation: https://pandas.pydata.org/pandas-docs/stable/user_guide/indexing.html#returning-a-view-versus-a-copy\n",
      "  X_test[col] = imp_mean.fit_transform(\n",
      "C:\\Users\\Darrell\\AppData\\Local\\Temp/ipykernel_55256/2725316522.py:10: SettingWithCopyWarning: \n",
      "A value is trying to be set on a copy of a slice from a DataFrame.\n",
      "Try using .loc[row_indexer,col_indexer] = value instead\n",
      "\n",
      "See the caveats in the documentation: https://pandas.pydata.org/pandas-docs/stable/user_guide/indexing.html#returning-a-view-versus-a-copy\n",
      "  X_train[col] = imp_mean.fit_transform(\n",
      "C:\\Users\\Darrell\\AppData\\Local\\Temp/ipykernel_55256/2725316522.py:12: SettingWithCopyWarning: \n",
      "A value is trying to be set on a copy of a slice from a DataFrame.\n",
      "Try using .loc[row_indexer,col_indexer] = value instead\n",
      "\n",
      "See the caveats in the documentation: https://pandas.pydata.org/pandas-docs/stable/user_guide/indexing.html#returning-a-view-versus-a-copy\n",
      "  X_test[col] = imp_mean.fit_transform(\n",
      "D:\\Users\\Darrell\\anaconda3\\lib\\site-packages\\pandas\\core\\indexing.py:1732: SettingWithCopyWarning: \n",
      "A value is trying to be set on a copy of a slice from a DataFrame\n",
      "\n",
      "See the caveats in the documentation: https://pandas.pydata.org/pandas-docs/stable/user_guide/indexing.html#returning-a-view-versus-a-copy\n",
      "  self._setitem_single_block(indexer, value, name)\n",
      "C:\\Users\\Darrell\\AppData\\Local\\Temp/ipykernel_55256/2725316522.py:26: SettingWithCopyWarning: \n",
      "A value is trying to be set on a copy of a slice from a DataFrame.\n",
      "Try using .loc[row_indexer,col_indexer] = value instead\n",
      "\n",
      "See the caveats in the documentation: https://pandas.pydata.org/pandas-docs/stable/user_guide/indexing.html#returning-a-view-versus-a-copy\n",
      "  X_test['BloodPressure'] = imp_mean.fit_transform(\n",
      "C:\\Users\\Darrell\\AppData\\Local\\Temp/ipykernel_55256/2725316522.py:39: SettingWithCopyWarning: \n",
      "A value is trying to be set on a copy of a slice from a DataFrame.\n",
      "Try using .loc[row_indexer,col_indexer] = value instead\n",
      "\n",
      "See the caveats in the documentation: https://pandas.pydata.org/pandas-docs/stable/user_guide/indexing.html#returning-a-view-versus-a-copy\n",
      "  X_test['BloodPressure'] = imp_mean.fit_transform(\n"
     ]
    }
   ],
   "source": [
    "import numpy as np\n",
    "from sklearn.impute import SimpleImputer\n",
    "X_train.drop('Insulin', axis=1, inplace=True)\n",
    "X_test.drop('Insulin', axis=1, inplace=True)\n",
    "\n",
    "cols = ('Glucose', 'BloodPressure', 'SkinThickness', 'BMI')\n",
    "## Impute the numerical values to the mean\n",
    "imp_mean = SimpleImputer(missing_values=0, strategy='mean')\n",
    "for col in cols:\n",
    "    X_train[col] = imp_mean.fit_transform(\n",
    "        X_train[col].to_numpy().reshape(-1, 1))\n",
    "    X_test[col] = imp_mean.fit_transform(\n",
    "        X_test[col].to_numpy().reshape(-1, 1))\n",
    "\n",
    "\n",
    "# Set the too high bloodpressure to zero\n",
    "for idx, value in enumerate(X_train['BloodPressure']):\n",
    "    if not pd.isna(value):\n",
    "        mean = pd.Series.mean(X_train['BloodPressure'])\n",
    "        stddev = pd.Series.std(X_train['BloodPressure'])\n",
    "        upper = mean + 3*stddev\n",
    "        if (value > upper):\n",
    "            X_train['BloodPressure'].iloc[idx] = 0\n",
    "## Impute the numerical values to the mean\n",
    "imp_mean = SimpleImputer(missing_values=0, strategy='mean')\n",
    "X_test['BloodPressure'] = imp_mean.fit_transform(\n",
    "    X_test['BloodPressure'].to_numpy().reshape(-1, 1))\n",
    "\n",
    "# Same for testing set with\n",
    "for idx, value in enumerate(X_test['BloodPressure']):\n",
    "    if not pd.isna(value):\n",
    "        mean = pd.Series.mean(X_test['BloodPressure'])\n",
    "        stddev = pd.Series.std(X_test['BloodPressure'])\n",
    "        upper = mean + 3*stddev\n",
    "        if (value > upper):\n",
    "            X_test['BloodPressure'].iloc[idx] = 0\n",
    "## Impute the numerical values to the mean\n",
    "imp_mean = SimpleImputer(missing_values=0, strategy='mean')\n",
    "X_test['BloodPressure'] = imp_mean.fit_transform(\n",
    "    X_test['BloodPressure'].to_numpy().reshape(-1, 1))\n"
   ]
  },
  {
   "cell_type": "code",
   "execution_count": 53,
   "id": "73b10989-7df9-4982-849e-cc2d5d1a7ed1",
   "metadata": {},
   "outputs": [
    {
     "data": {
      "text/plain": [
       "537"
      ]
     },
     "execution_count": 53,
     "metadata": {},
     "output_type": "execute_result"
    }
   ],
   "source": [
    "len(X_train)"
   ]
  },
  {
   "cell_type": "code",
   "execution_count": 54,
   "id": "d9601f0e-10bb-4719-abdc-b4651cf4a18b",
   "metadata": {},
   "outputs": [
    {
     "data": {
      "text/plain": [
       "231"
      ]
     },
     "execution_count": 54,
     "metadata": {},
     "output_type": "execute_result"
    }
   ],
   "source": [
    "len(X_test)"
   ]
  },
  {
   "cell_type": "code",
   "execution_count": 55,
   "id": "82cb5ab9-553d-4986-a0ed-07f94f84efb8",
   "metadata": {},
   "outputs": [
    {
     "data": {
      "text/plain": [
       "768"
      ]
     },
     "execution_count": 55,
     "metadata": {},
     "output_type": "execute_result"
    }
   ],
   "source": [
    "len(df)"
   ]
  },
  {
   "cell_type": "code",
   "execution_count": 56,
   "id": "12c79800-fbfe-4f2d-8b30-f987d8e0363c",
   "metadata": {},
   "outputs": [],
   "source": [
    "from sklearn.naive_bayes import GaussianNB\n",
    "model = GaussianNB()"
   ]
  },
  {
   "cell_type": "code",
   "execution_count": 57,
   "id": "95824184-6fde-4c66-8dbd-bd1844549168",
   "metadata": {},
   "outputs": [
    {
     "data": {
      "text/plain": [
       "GaussianNB()"
      ]
     },
     "execution_count": 57,
     "metadata": {},
     "output_type": "execute_result"
    }
   ],
   "source": [
    "model.fit(X_train, y_train)"
   ]
  },
  {
   "cell_type": "code",
   "execution_count": 58,
   "id": "582f4b2e-b12d-4692-a12e-b482964ba904",
   "metadata": {},
   "outputs": [
    {
     "data": {
      "text/plain": [
       "0.7748917748917749"
      ]
     },
     "execution_count": 58,
     "metadata": {},
     "output_type": "execute_result"
    }
   ],
   "source": [
    "model.score(X_test, y_test)"
   ]
  },
  {
   "cell_type": "code",
   "execution_count": 59,
   "id": "03afdcf6-2936-4a88-9e80-a14cc9820398",
   "metadata": {},
   "outputs": [
    {
     "data": {
      "text/html": [
       "<div>\n",
       "<style scoped>\n",
       "    .dataframe tbody tr th:only-of-type {\n",
       "        vertical-align: middle;\n",
       "    }\n",
       "\n",
       "    .dataframe tbody tr th {\n",
       "        vertical-align: top;\n",
       "    }\n",
       "\n",
       "    .dataframe thead th {\n",
       "        text-align: right;\n",
       "    }\n",
       "</style>\n",
       "<table border=\"1\" class=\"dataframe\">\n",
       "  <thead>\n",
       "    <tr style=\"text-align: right;\">\n",
       "      <th></th>\n",
       "      <th>Pregnancies</th>\n",
       "      <th>Glucose</th>\n",
       "      <th>BloodPressure</th>\n",
       "      <th>SkinThickness</th>\n",
       "      <th>BMI</th>\n",
       "      <th>DiabetesPedigreeFunction</th>\n",
       "      <th>Age</th>\n",
       "    </tr>\n",
       "  </thead>\n",
       "  <tbody>\n",
       "    <tr>\n",
       "      <th>229</th>\n",
       "      <td>0</td>\n",
       "      <td>117.0</td>\n",
       "      <td>80.0</td>\n",
       "      <td>31.000000</td>\n",
       "      <td>45.2</td>\n",
       "      <td>0.089</td>\n",
       "      <td>24</td>\n",
       "    </tr>\n",
       "    <tr>\n",
       "      <th>57</th>\n",
       "      <td>0</td>\n",
       "      <td>100.0</td>\n",
       "      <td>88.0</td>\n",
       "      <td>60.000000</td>\n",
       "      <td>46.8</td>\n",
       "      <td>0.962</td>\n",
       "      <td>31</td>\n",
       "    </tr>\n",
       "    <tr>\n",
       "      <th>438</th>\n",
       "      <td>1</td>\n",
       "      <td>97.0</td>\n",
       "      <td>70.0</td>\n",
       "      <td>15.000000</td>\n",
       "      <td>18.2</td>\n",
       "      <td>0.147</td>\n",
       "      <td>21</td>\n",
       "    </tr>\n",
       "    <tr>\n",
       "      <th>481</th>\n",
       "      <td>0</td>\n",
       "      <td>123.0</td>\n",
       "      <td>88.0</td>\n",
       "      <td>37.000000</td>\n",
       "      <td>35.2</td>\n",
       "      <td>0.197</td>\n",
       "      <td>29</td>\n",
       "    </tr>\n",
       "    <tr>\n",
       "      <th>694</th>\n",
       "      <td>2</td>\n",
       "      <td>90.0</td>\n",
       "      <td>60.0</td>\n",
       "      <td>30.128492</td>\n",
       "      <td>23.5</td>\n",
       "      <td>0.191</td>\n",
       "      <td>25</td>\n",
       "    </tr>\n",
       "    <tr>\n",
       "      <th>425</th>\n",
       "      <td>4</td>\n",
       "      <td>184.0</td>\n",
       "      <td>78.0</td>\n",
       "      <td>39.000000</td>\n",
       "      <td>37.0</td>\n",
       "      <td>0.264</td>\n",
       "      <td>31</td>\n",
       "    </tr>\n",
       "    <tr>\n",
       "      <th>251</th>\n",
       "      <td>2</td>\n",
       "      <td>129.0</td>\n",
       "      <td>84.0</td>\n",
       "      <td>30.128492</td>\n",
       "      <td>28.0</td>\n",
       "      <td>0.284</td>\n",
       "      <td>27</td>\n",
       "    </tr>\n",
       "    <tr>\n",
       "      <th>552</th>\n",
       "      <td>6</td>\n",
       "      <td>114.0</td>\n",
       "      <td>88.0</td>\n",
       "      <td>30.128492</td>\n",
       "      <td>27.8</td>\n",
       "      <td>0.247</td>\n",
       "      <td>66</td>\n",
       "    </tr>\n",
       "    <tr>\n",
       "      <th>2</th>\n",
       "      <td>8</td>\n",
       "      <td>183.0</td>\n",
       "      <td>64.0</td>\n",
       "      <td>30.128492</td>\n",
       "      <td>23.3</td>\n",
       "      <td>0.672</td>\n",
       "      <td>32</td>\n",
       "    </tr>\n",
       "    <tr>\n",
       "      <th>610</th>\n",
       "      <td>3</td>\n",
       "      <td>106.0</td>\n",
       "      <td>54.0</td>\n",
       "      <td>21.000000</td>\n",
       "      <td>30.9</td>\n",
       "      <td>0.292</td>\n",
       "      <td>24</td>\n",
       "    </tr>\n",
       "  </tbody>\n",
       "</table>\n",
       "</div>"
      ],
      "text/plain": [
       "     Pregnancies  Glucose  BloodPressure  SkinThickness   BMI  \\\n",
       "229            0    117.0           80.0      31.000000  45.2   \n",
       "57             0    100.0           88.0      60.000000  46.8   \n",
       "438            1     97.0           70.0      15.000000  18.2   \n",
       "481            0    123.0           88.0      37.000000  35.2   \n",
       "694            2     90.0           60.0      30.128492  23.5   \n",
       "425            4    184.0           78.0      39.000000  37.0   \n",
       "251            2    129.0           84.0      30.128492  28.0   \n",
       "552            6    114.0           88.0      30.128492  27.8   \n",
       "2              8    183.0           64.0      30.128492  23.3   \n",
       "610            3    106.0           54.0      21.000000  30.9   \n",
       "\n",
       "     DiabetesPedigreeFunction  Age  \n",
       "229                     0.089   24  \n",
       "57                      0.962   31  \n",
       "438                     0.147   21  \n",
       "481                     0.197   29  \n",
       "694                     0.191   25  \n",
       "425                     0.264   31  \n",
       "251                     0.284   27  \n",
       "552                     0.247   66  \n",
       "2                       0.672   32  \n",
       "610                     0.292   24  "
      ]
     },
     "execution_count": 59,
     "metadata": {},
     "output_type": "execute_result"
    }
   ],
   "source": [
    "X_test[:10]"
   ]
  },
  {
   "cell_type": "code",
   "execution_count": 60,
   "id": "2038216a-4307-41f2-ad40-964f8fd882d6",
   "metadata": {},
   "outputs": [
    {
     "data": {
      "text/plain": [
       "229    0\n",
       "57     0\n",
       "438    0\n",
       "481    0\n",
       "694    0\n",
       "425    1\n",
       "251    0\n",
       "552    0\n",
       "2      1\n",
       "610    0\n",
       "Name: Outcome, dtype: int64"
      ]
     },
     "execution_count": 60,
     "metadata": {},
     "output_type": "execute_result"
    }
   ],
   "source": [
    "y_test[:10]"
   ]
  },
  {
   "cell_type": "code",
   "execution_count": 61,
   "id": "27e7ff7b-a437-4aec-bb21-7f95925c32b0",
   "metadata": {},
   "outputs": [
    {
     "data": {
      "text/plain": [
       "array([0, 1, 0, 0, 0, 1, 0, 0, 1, 0], dtype=int64)"
      ]
     },
     "execution_count": 61,
     "metadata": {},
     "output_type": "execute_result"
    }
   ],
   "source": [
    "model.predict(X_test[:10])"
   ]
  },
  {
   "cell_type": "markdown",
   "id": "fdc11288",
   "metadata": {},
   "source": [
    "Do the ROC curve for each"
   ]
  },
  {
   "cell_type": "code",
   "execution_count": 62,
   "id": "78404fac-01e3-4db8-82df-a3b2300daef8",
   "metadata": {},
   "outputs": [
    {
     "data": {
      "image/png": "[encoded data removed]",
      "text/plain": [
       "<Figure size 432x288 with 1 Axes>"
      ]
     },
     "metadata": {
      "needs_background": "light"
     },
     "output_type": "display_data"
    }
   ],
   "source": [
    "from sklearn.metrics import roc_curve\n",
    "import matplotlib.pyplot as plt\n",
    "\n",
    "y_pred_prob = model.predict_proba(X_test)[:, 1]\n",
    "fpr, tpr, threshold = roc_curve(y_test, y_pred_prob)\n",
    "plt.plot([0, 1], [0, 1], 'k--')\n",
    "plt.plot(fpr, tpr, label=\"Logistic Regression\")\n",
    "plt.xlabel('False Positive Rate')\n",
    "plt.ylabel('True Positive Rate')\n",
    "plt.title('Logistic Regression ROC Curve')\n",
    "plt.show()\n"
   ]
  },
  {
   "cell_type": "code",
   "execution_count": 66,
   "id": "4ba9b0f1",
   "metadata": {},
   "outputs": [
    {
     "name": "stdout",
     "output_type": "stream",
     "text": [
      "Final C hyperparameter: [0.00599484]\n",
      "Score Logistic: 0.7835497835497836\n",
      "Score NB: 0.7748917748917749\n",
      "Confusion Matrix: Logistic\n",
      "[[133  17]\n",
      " [ 33  48]]\n",
      "Confusion Matrix: Naive Bayes\n",
      "[[126  24]\n",
      " [ 28  53]]\n"
     ]
    },
    {
     "data": {
      "image/png": "[encoded data removed]",
      "text/plain": [
       "<Figure size 432x288 with 1 Axes>"
      ]
     },
     "metadata": {
      "needs_background": "light"
     },
     "output_type": "display_data"
    }
   ],
   "source": [
    "from sklearn.metrics import roc_curve\n",
    "from sklearn.metrics import confusion_matrix\n",
    "from sklearn.linear_model import LogisticRegressionCV\n",
    "\n",
    "regLogit = LogisticRegressionCV().fit(X_train, y_train)\n",
    "print(f\"Final C hyperparameter: {regLogit.C_}\")\n",
    "\n",
    "# Check on the testing dataset\n",
    "print(f\"Score Logistic: {regLogit.score(X_test, y_test)}\")\n",
    "print(f\"Score NB: {model.score(X_test, y_test)}\")\n",
    "\n",
    "predictions_testLog = regLogit.predict(X_test)\n",
    "predictions_testNB = model.predict(X_test)\n",
    "print(\"Confusion Matrix: Logistic\")\n",
    "print(confusion_matrix(y_test, predictions_testLog))\n",
    "print(\"Confusion Matrix: Naive Bayes\")\n",
    "print(confusion_matrix(y_test, predictions_testNB))\n",
    "\n",
    "# ROC Curve\n",
    "y_pred_probLog = regLogit.predict_proba(X_test)[:, 1]\n",
    "fprLog, tprLog, thresholdLog = roc_curve(y_test, y_pred_probLog)\n",
    "y_pred_probNB = model.predict_proba(X_test)[:, 1]\n",
    "fprNB, tprNB, thresholdNB = roc_curve(y_test, y_pred_probNB)\n",
    "plt.plot([0, 1], [0, 1], 'k--')\n",
    "plt.plot(fprLog, tprLog, label=\"Logistic Regression\")\n",
    "plt.plot(fprNB, tprNB, label=\"Naive Bayes\")\n",
    "plt.xlabel('False Positive Rate')\n",
    "plt.ylabel('True Positive Rate')\n",
    "plt.title('Comparative ROC Curve')\n",
    "plt.legend()\n",
    "plt.show()\n"
   ]
  }
 ],
 "metadata": {
  "kernelspec": {
   "display_name": "Python 3 (ipykernel)",
   "language": "python",
   "name": "python3"
  },
  "language_info": {
   "codemirror_mode": {
    "name": "ipython",
    "version": 3
   },
   "file_extension": ".py",
   "mimetype": "text/x-python",
   "name": "python",
   "nbconvert_exporter": "python",
   "pygments_lexer": "ipython3",
   "version": "3.9.7"
  }
 },
 "nbformat": 4,
 "nbformat_minor": 5
}
