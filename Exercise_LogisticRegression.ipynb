{
 "cells": [
  {
   "cell_type": "code",
   "execution_count": 20,
   "metadata": {},
   "outputs": [
    {
     "name": "stdout",
     "output_type": "stream",
     "text": [
      "<class 'pandas.core.frame.DataFrame'>\n",
      "RangeIndex: 768 entries, 0 to 767\n",
      "Data columns (total 9 columns):\n",
      " #   Column                    Non-Null Count  Dtype  \n",
      "---  ------                    --------------  -----  \n",
      " 0   Pregnancies               768 non-null    int64  \n",
      " 1   Glucose                   768 non-null    int64  \n",
      " 2   BloodPressure             768 non-null    int64  \n",
      " 3   SkinThickness             768 non-null    int64  \n",
      " 4   Insulin                   768 non-null    int64  \n",
      " 5   BMI                       768 non-null    float64\n",
      " 6   DiabetesPedigreeFunction  768 non-null    float64\n",
      " 7   Age                       768 non-null    int64  \n",
      " 8   Outcome                   768 non-null    int64  \n",
      "dtypes: float64(2), int64(7)\n",
      "memory usage: 54.1 KB\n"
     ]
    }
   ],
   "source": [
    "import pandas as pd\n",
    "import seaborn as sns\n",
    "import matplotlib.pyplot as plt\n",
    "\n",
    "LogData = pd.read_csv('Data/diabetes.csv')\n",
    "LogData.info()\n"
   ]
  },
  {
   "cell_type": "markdown",
   "metadata": {},
   "source": [
    "2. Clean the data and remove missing values. Drop any column that is not categorical or numeric. Separate the independent variables from the dependent variables."
   ]
  },
  {
   "cell_type": "code",
   "execution_count": 21,
   "metadata": {},
   "outputs": [
    {
     "name": "stdout",
     "output_type": "stream",
     "text": [
      "[ 6  1  8  0  5  3 10  2  4  7  9 11 13 15 17 12 14]\n",
      "[50 31 32 21 33 30 26 29 53 54 34 57 59 51 27 41 43 22 38 60 28 45 35 46\n",
      " 56 37 48 40 25 24 58 42 44 39 36 23 61 69 62 55 65 47 52 66 49 63 67 72\n",
      " 81 64 70 68]\n",
      "[1 0]\n"
     ]
    }
   ],
   "source": [
    "print(LogData['Pregnancies'].unique())\n",
    "print(LogData['Age'].unique())\n",
    "print(LogData['Outcome'].unique())\n"
   ]
  },
  {
   "cell_type": "code",
   "execution_count": 22,
   "metadata": {},
   "outputs": [
    {
     "data": {
      "text/html": [
       "<div>\n",
       "<style scoped>\n",
       "    .dataframe tbody tr th:only-of-type {\n",
       "        vertical-align: middle;\n",
       "    }\n",
       "\n",
       "    .dataframe tbody tr th {\n",
       "        vertical-align: top;\n",
       "    }\n",
       "\n",
       "    .dataframe thead th {\n",
       "        text-align: right;\n",
       "    }\n",
       "</style>\n",
       "<table border=\"1\" class=\"dataframe\">\n",
       "  <thead>\n",
       "    <tr style=\"text-align: right;\">\n",
       "      <th></th>\n",
       "      <th>Pregnancies</th>\n",
       "      <th>Glucose</th>\n",
       "      <th>BloodPressure</th>\n",
       "      <th>SkinThickness</th>\n",
       "      <th>Insulin</th>\n",
       "      <th>BMI</th>\n",
       "      <th>DiabetesPedigreeFunction</th>\n",
       "      <th>Age</th>\n",
       "      <th>Outcome</th>\n",
       "    </tr>\n",
       "  </thead>\n",
       "  <tbody>\n",
       "    <tr>\n",
       "      <th>count</th>\n",
       "      <td>768.000000</td>\n",
       "      <td>768.000000</td>\n",
       "      <td>768.000000</td>\n",
       "      <td>768.000000</td>\n",
       "      <td>768.000000</td>\n",
       "      <td>768.000000</td>\n",
       "      <td>768.000000</td>\n",
       "      <td>768.000000</td>\n",
       "      <td>768.000000</td>\n",
       "    </tr>\n",
       "    <tr>\n",
       "      <th>mean</th>\n",
       "      <td>3.845052</td>\n",
       "      <td>120.894531</td>\n",
       "      <td>69.105469</td>\n",
       "      <td>20.536458</td>\n",
       "      <td>79.799479</td>\n",
       "      <td>31.992578</td>\n",
       "      <td>0.471876</td>\n",
       "      <td>33.240885</td>\n",
       "      <td>0.348958</td>\n",
       "    </tr>\n",
       "    <tr>\n",
       "      <th>std</th>\n",
       "      <td>3.369578</td>\n",
       "      <td>31.972618</td>\n",
       "      <td>19.355807</td>\n",
       "      <td>15.952218</td>\n",
       "      <td>115.244002</td>\n",
       "      <td>7.884160</td>\n",
       "      <td>0.331329</td>\n",
       "      <td>11.760232</td>\n",
       "      <td>0.476951</td>\n",
       "    </tr>\n",
       "    <tr>\n",
       "      <th>min</th>\n",
       "      <td>0.000000</td>\n",
       "      <td>0.000000</td>\n",
       "      <td>0.000000</td>\n",
       "      <td>0.000000</td>\n",
       "      <td>0.000000</td>\n",
       "      <td>0.000000</td>\n",
       "      <td>0.078000</td>\n",
       "      <td>21.000000</td>\n",
       "      <td>0.000000</td>\n",
       "    </tr>\n",
       "    <tr>\n",
       "      <th>25%</th>\n",
       "      <td>1.000000</td>\n",
       "      <td>99.000000</td>\n",
       "      <td>62.000000</td>\n",
       "      <td>0.000000</td>\n",
       "      <td>0.000000</td>\n",
       "      <td>27.300000</td>\n",
       "      <td>0.243750</td>\n",
       "      <td>24.000000</td>\n",
       "      <td>0.000000</td>\n",
       "    </tr>\n",
       "    <tr>\n",
       "      <th>50%</th>\n",
       "      <td>3.000000</td>\n",
       "      <td>117.000000</td>\n",
       "      <td>72.000000</td>\n",
       "      <td>23.000000</td>\n",
       "      <td>30.500000</td>\n",
       "      <td>32.000000</td>\n",
       "      <td>0.372500</td>\n",
       "      <td>29.000000</td>\n",
       "      <td>0.000000</td>\n",
       "    </tr>\n",
       "    <tr>\n",
       "      <th>75%</th>\n",
       "      <td>6.000000</td>\n",
       "      <td>140.250000</td>\n",
       "      <td>80.000000</td>\n",
       "      <td>32.000000</td>\n",
       "      <td>127.250000</td>\n",
       "      <td>36.600000</td>\n",
       "      <td>0.626250</td>\n",
       "      <td>41.000000</td>\n",
       "      <td>1.000000</td>\n",
       "    </tr>\n",
       "    <tr>\n",
       "      <th>max</th>\n",
       "      <td>17.000000</td>\n",
       "      <td>199.000000</td>\n",
       "      <td>122.000000</td>\n",
       "      <td>99.000000</td>\n",
       "      <td>846.000000</td>\n",
       "      <td>67.100000</td>\n",
       "      <td>2.420000</td>\n",
       "      <td>81.000000</td>\n",
       "      <td>1.000000</td>\n",
       "    </tr>\n",
       "  </tbody>\n",
       "</table>\n",
       "</div>"
      ],
      "text/plain": [
       "       Pregnancies     Glucose  BloodPressure  SkinThickness     Insulin  \\\n",
       "count   768.000000  768.000000     768.000000     768.000000  768.000000   \n",
       "mean      3.845052  120.894531      69.105469      20.536458   79.799479   \n",
       "std       3.369578   31.972618      19.355807      15.952218  115.244002   \n",
       "min       0.000000    0.000000       0.000000       0.000000    0.000000   \n",
       "25%       1.000000   99.000000      62.000000       0.000000    0.000000   \n",
       "50%       3.000000  117.000000      72.000000      23.000000   30.500000   \n",
       "75%       6.000000  140.250000      80.000000      32.000000  127.250000   \n",
       "max      17.000000  199.000000     122.000000      99.000000  846.000000   \n",
       "\n",
       "              BMI  DiabetesPedigreeFunction         Age     Outcome  \n",
       "count  768.000000                768.000000  768.000000  768.000000  \n",
       "mean    31.992578                  0.471876   33.240885    0.348958  \n",
       "std      7.884160                  0.331329   11.760232    0.476951  \n",
       "min      0.000000                  0.078000   21.000000    0.000000  \n",
       "25%     27.300000                  0.243750   24.000000    0.000000  \n",
       "50%     32.000000                  0.372500   29.000000    0.000000  \n",
       "75%     36.600000                  0.626250   41.000000    1.000000  \n",
       "max     67.100000                  2.420000   81.000000    1.000000  "
      ]
     },
     "execution_count": 22,
     "metadata": {},
     "output_type": "execute_result"
    }
   ],
   "source": [
    "LogData.describe()"
   ]
  },
  {
   "cell_type": "markdown",
   "metadata": {},
   "source": [
    "Looks like some problems with unrealistic zero values for Glucose, BloodPressure, Skinthickness, Insulin, and BMI. "
   ]
  },
  {
   "cell_type": "code",
   "execution_count": 23,
   "metadata": {},
   "outputs": [
    {
     "name": "stdout",
     "output_type": "stream",
     "text": [
      "(768, 9)\n",
      "Glucose: 5\n",
      "BloodPressure: 35\n",
      "SkinThickness: 227\n",
      "Insulin: 374\n",
      "BMI: 11\n"
     ]
    }
   ],
   "source": [
    "print(LogData.shape)\n",
    "print(f\"Glucose: {(LogData['Glucose'] == 0).sum()}\")\n",
    "print(f\"BloodPressure: {(LogData['BloodPressure'] == 0).sum()}\")\n",
    "print(f\"SkinThickness: {(LogData['SkinThickness'] == 0).sum()}\")\n",
    "print(f\"Insulin: {(LogData['Insulin'] == 0).sum()}\")\n",
    "print(f\"BMI: {(LogData['BMI'] == 0).sum()}\")\n"
   ]
  },
  {
   "cell_type": "markdown",
   "metadata": {},
   "source": [
    "Almost half of the Insulin values are zero. They are probably all non-values. Let's just remove that column. It's not valid to try to impute."
   ]
  },
  {
   "cell_type": "code",
   "execution_count": 24,
   "metadata": {},
   "outputs": [],
   "source": [
    "LogData.drop('Insulin', axis=1, inplace=True)"
   ]
  },
  {
   "cell_type": "code",
   "execution_count": 25,
   "metadata": {},
   "outputs": [
    {
     "name": "stdout",
     "output_type": "stream",
     "text": [
      "0\n"
     ]
    }
   ],
   "source": [
    "count=0\n",
    "for idx, row in LogData.iterrows():\n",
    "    if ((row['Glucose'] == 0) & (row['BloodPressure'] == 0) \n",
    "        & (row['SkinThickness'] == 0) & (row['BMI'] == 0)):\n",
    "        count += 1\n",
    "print(count)\n"
   ]
  },
  {
   "cell_type": "markdown",
   "metadata": {},
   "source": [
    "There are no rows where all of these are zero at once.\n",
    "\n",
    "Impute the zero values in those columns to the mean."
   ]
  },
  {
   "cell_type": "code",
   "execution_count": 26,
   "metadata": {},
   "outputs": [
    {
     "name": "stdout",
     "output_type": "stream",
     "text": [
      "       Pregnancies     Glucose  BloodPressure  SkinThickness         BMI  \\\n",
      "count   768.000000  768.000000     768.000000     768.000000  768.000000   \n",
      "mean      3.845052  121.686763      72.405184      29.153420   32.457464   \n",
      "std       3.369578   30.435949      12.096346       8.790942    6.875151   \n",
      "min       0.000000   44.000000      24.000000       7.000000   18.200000   \n",
      "25%       1.000000   99.750000      64.000000      25.000000   27.500000   \n",
      "50%       3.000000  117.000000      72.202592      29.153420   32.400000   \n",
      "75%       6.000000  140.250000      80.000000      32.000000   36.600000   \n",
      "max      17.000000  199.000000     122.000000      99.000000   67.100000   \n",
      "\n",
      "       DiabetesPedigreeFunction         Age     Outcome  \n",
      "count                768.000000  768.000000  768.000000  \n",
      "mean                   0.471876   33.240885    0.348958  \n",
      "std                    0.331329   11.760232    0.476951  \n",
      "min                    0.078000   21.000000    0.000000  \n",
      "25%                    0.243750   24.000000    0.000000  \n",
      "50%                    0.372500   29.000000    0.000000  \n",
      "75%                    0.626250   41.000000    1.000000  \n",
      "max                    2.420000   81.000000    1.000000  \n"
     ]
    }
   ],
   "source": [
    "from sklearn.impute import SimpleImputer\n",
    "import numpy as np\n",
    "\n",
    "cols = ('Glucose', 'BloodPressure', 'SkinThickness', 'BMI')\n",
    "\n",
    "## Impute the numerical values to the mean\n",
    "imp_mean = SimpleImputer(missing_values=0, strategy='mean')\n",
    "for col in cols:\n",
    "    LogData[col] = imp_mean.fit_transform(LogData[col].to_numpy().reshape(-1, 1))\n",
    "\n",
    "print(LogData.describe())\n"
   ]
  },
  {
   "cell_type": "markdown",
   "metadata": {},
   "source": [
    "Let's check to see if there are outlier problems in any of the columns"
   ]
  },
  {
   "cell_type": "code",
   "execution_count": 27,
   "metadata": {},
   "outputs": [
    {
     "name": "stdout",
     "output_type": "stream",
     "text": [
      "Pregnancies\n",
      "Mean/Std Dev: 3.8450520833333335, 3.3695780626988623\n",
      "Upper/Lower: 13.953786271429921 to -6.263682104763253\n",
      "Outliers: [15, 17, 14, 14]\n",
      "Glucose\n",
      "Mean/Std Dev: 121.68676277850587, 30.43594886720766\n",
      "Upper/Lower: 212.99460938012885 to 30.378916176882882\n",
      "Outliers: []\n",
      "BloodPressure\n",
      "Mean/Std Dev: 72.40518417462486, 12.096346184037948\n",
      "Upper/Lower: 108.6942227267387 to 36.11614562251102\n",
      "Outliers: [30.0, 110.0, 122.0, 30.0, 110.0, 110.0, 24.0, 114.0]\n",
      "SkinThickness\n",
      "Mean/Std Dev: 29.153419593345607, 8.79094192562453\n",
      "Upper/Lower: 55.5262453702192 to 2.7805938164720168\n",
      "Outliers: [60.0, 56.0, 63.0, 99.0]\n",
      "BMI\n",
      "Mean/Std Dev: 32.457463672391, 6.8751513275037786\n",
      "Upper/Lower: 53.08291765490233 to 11.832009689879666\n",
      "Outliers: [53.2, 55.0, 67.1, 59.4, 57.3]\n",
      "DiabetesPedigreeFunction\n",
      "Mean/Std Dev: 0.4718763020833327, 0.33132859501277484\n",
      "Upper/Lower: 1.4658620871216572 to -0.5221094829549917\n",
      "Outliers: [2.288, 1.893, 1.781, 2.329, 1.476, 2.137, 1.731, 1.6, 2.42, 1.699, 1.698]\n",
      "Age\n",
      "Mean/Std Dev: 33.240885416666664, 11.76023154067868\n",
      "Upper/Lower: 68.5215800387027 to -2.039809205369373\n",
      "Outliers: [69, 72, 81, 70, 69]\n",
      "Outcome\n",
      "Mean/Std Dev: 0.3489583333333333, 0.4769513772427971\n",
      "Upper/Lower: 1.7798124650617246 to -1.0818957983950581\n",
      "Outliers: []\n"
     ]
    }
   ],
   "source": [
    "# loop through all of the numeric columns to check for outliers outside of the\n",
    "# 3 std deviation range.\n",
    "for name, values in LogData.select_dtypes(('float64', 'int64')).iteritems():\n",
    "    mean = pd.Series.mean(values)\n",
    "    stddev = pd.Series.std(values)\n",
    "    upper = mean + 3*stddev\n",
    "    lower = mean - 3*stddev\n",
    "    print(name)\n",
    "    print(f\"Mean/Std Dev: {mean}, {stddev}\")\n",
    "    print(f\"Upper/Lower: {upper} to {lower}\")\n",
    "    OutOfBounds = []\n",
    "    for idx, value in enumerate(values):\n",
    "        # If we have outliers add them to the list to print\n",
    "        # Also, do a winsorizing by setting them to the nearest boundary.\n",
    "        if not pd.isna(value):\n",
    "            if (value > upper):\n",
    "                OutOfBounds.append(value)\n",
    "                #songsData[name].iloc[idx] = upper\n",
    "            elif (value < lower):\n",
    "                OutOfBounds.append(value)\n",
    "              #  songsData[name].iloc[idx] = lower\n",
    "\n",
    "    print(f\"Outliers: {OutOfBounds}\")\n"
   ]
  },
  {
   "cell_type": "markdown",
   "metadata": {},
   "source": [
    "The one that looks to be a problem are the outliers in Bloodpressure. The values on the upper end are dangerously high. It's likely that someone mistakenly entered the systolic bloodpressure instead of the dystolic bloodpressure. Set them to zero and impute them with the mean value for the column."
   ]
  },
  {
   "cell_type": "code",
   "execution_count": 28,
   "metadata": {},
   "outputs": [
    {
     "name": "stdout",
     "output_type": "stream",
     "text": [
      "count    768.000000\n",
      "mean      72.137852\n",
      "std       11.630124\n",
      "min       24.000000\n",
      "25%       64.000000\n",
      "50%       72.068926\n",
      "75%       80.000000\n",
      "max      108.000000\n",
      "Name: BloodPressure, dtype: float64\n"
     ]
    },
    {
     "name": "stderr",
     "output_type": "stream",
     "text": [
      "D:\\Users\\Darrell\\anaconda3\\lib\\site-packages\\pandas\\core\\indexing.py:1732: SettingWithCopyWarning: \n",
      "A value is trying to be set on a copy of a slice from a DataFrame\n",
      "\n",
      "See the caveats in the documentation: https://pandas.pydata.org/pandas-docs/stable/user_guide/indexing.html#returning-a-view-versus-a-copy\n",
      "  self._setitem_single_block(indexer, value, name)\n"
     ]
    }
   ],
   "source": [
    "for idx, value in enumerate(LogData['BloodPressure']):\n",
    "    if not pd.isna(value):\n",
    "        mean = pd.Series.mean(LogData['BloodPressure'])\n",
    "        stddev = pd.Series.std(LogData['BloodPressure'])\n",
    "        upper = mean + 3*stddev\n",
    "        if (value > upper):\n",
    "            OutOfBounds.append(value)\n",
    "            LogData['BloodPressure'].iloc[idx] = 0\n",
    "\n",
    "## Impute the numerical values to the mean\n",
    "imp_mean = SimpleImputer(missing_values=0, strategy='mean')\n",
    "LogData['BloodPressure'] = imp_mean.fit_transform(\n",
    "    LogData['BloodPressure'].to_numpy().reshape(-1, 1))\n",
    "\n",
    "print(LogData['BloodPressure'].describe())\n"
   ]
  },
  {
   "cell_type": "markdown",
   "metadata": {},
   "source": [
    "3. Generate dummy variables for the categorical features.\n",
    "\n",
    "There are no categorical features in this dataset. The only categorical value is Outcome which is the dependent variable (target). "
   ]
  },
  {
   "cell_type": "markdown",
   "metadata": {},
   "source": [
    "4. Create a training set that's 75% of your data set and a complementary test set with the remaining 25%. Specify random_state=0."
   ]
  }
 ],
 "metadata": {
  "interpreter": {
   "hash": "5c6de44c681b342ec51b1de181fee9b517a6326e3c382e784e1b8c6142c576ac"
  },
  "kernelspec": {
   "display_name": "Python 3.9.7 64-bit ('base': conda)",
   "language": "python",
   "name": "python3"
  },
  "language_info": {
   "codemirror_mode": {
    "name": "ipython",
    "version": 3
   },
   "file_extension": ".py",
   "mimetype": "text/x-python",
   "name": "python",
   "nbconvert_exporter": "python",
   "pygments_lexer": "ipython3",
   "version": "3.9.7"
  },
  "orig_nbformat": 4
 },
 "nbformat": 4,
 "nbformat_minor": 2
}
