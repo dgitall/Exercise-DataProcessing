{
 "cells": [
  {
   "cell_type": "code",
   "execution_count": 2,
   "id": "2099dd65-2fbd-4079-98cc-f0ad22cd30ff",
   "metadata": {},
   "outputs": [
    {
     "data": {
      "image/png": "[encoded data removed]",
      "text/plain": [
       "<Figure size 432x288 with 1 Axes>"
      ]
     },
     "metadata": {
      "needs_background": "light"
     },
     "output_type": "display_data"
    }
   ],
   "source": [
    "import matplotlib.pyplot as plt\n",
    "import numpy as np\n",
    "from sklearn import svm\n",
    "\n",
    "# For a simple linear example, we'll just make some dummy data and that will act in the place of importing a dataset.\n",
    "X = np.array([1, 5, 1.5, 8, 1, 9, 7, 8.7, 2.3, 5.5, 7.7, 6.1])\n",
    "y = np.array([2, 8, 1.8, 8, 0.6, 11, 10, 9.4, 4, 3, 8.8, 7.5])\n",
    "\n",
    "# Now let's take a look at what the data look like in a plot:\n",
    "plt.scatter(X, y)\n",
    "plt.show()"
   ]
  },
  {
   "cell_type": "code",
   "execution_count": 9,
   "id": "6df9f793-aa96-474b-b451-736dbd870a86",
   "metadata": {},
   "outputs": [
    {
     "data": {
      "image/png": "[encoded data removed]",
      "text/plain": [
       "<Figure size 432x288 with 1 Axes>"
      ]
     },
     "metadata": {
      "needs_background": "light"
     },
     "output_type": "display_data"
    }
   ],
   "source": [
    "# Once you see what the data look like, you can take a better guess at which algorithm will work best for you.\n",
    "# Keep in mind that this is a really simple dataset, so most of the time you'll need to do some work on your data to get it to a usable state.\n",
    "# We'll do a bit of pre-processing on the already structured code. This will put the raw data into a format that we can use to train the SVM model.\n",
    "training_X = np.vstack((X, y)).T\n",
    "training_y = [0, 1, 0, 1, 0, 1, 1, 1, 0, 0, 1, 1]\n",
    "\n",
    "# Now we can create the SVM model using a linear kernel.\n",
    "clf = svm.SVC(kernel='linear', C=1.0)\n",
    "\n",
    "# That one line of code just created an entire machine learning model. Now we just have to train it with the data we pre-processed.\n",
    "clf.fit(training_X, training_y)\n",
    "\n",
    "# That's how you can build a model for any machine learning project. The dataset we have might be small, but if you encounter a real-world dataset\n",
    "# that can be classified with a linear boundary this model still works.\n",
    "# With your model trained, you can make predictions on how a new data point will be classified and you can make a plot of the decision boundary.\n",
    "# Let's plot the decision boundary.\n",
    "w = clf.coef_[0]\n",
    "\n",
    "# get the y-offset for the linear equation\n",
    "a = -w[0] / w[1]\n",
    "\n",
    "# make the x-axis space for the data points\n",
    "XX = np.linspace(0, 13)\n",
    "\n",
    "# get the y-values to plot the decision boundary\n",
    "yy = a * XX - clf.intercept_[0] / w[1]\n",
    "\n",
    "# plot the decision boundary\n",
    "plt.plot(XX, yy, 'k-')\n",
    "\n",
    "# show the plot visually\n",
    "plt.scatter(training_X[:, 0], training_X[:, 1], c=training_y)\n",
    "plt.show()"
   ]
  },
  {
   "cell_type": "code",
   "execution_count": null,
   "id": "f648f0a2-481c-4166-bc3e-30ff149c3c06",
   "metadata": {},
   "outputs": [],
   "source": []
  }
 ],
 "metadata": {
  "kernelspec": {
   "display_name": "Python 3 (ipykernel)",
   "language": "python",
   "name": "python3"
  },
  "language_info": {
   "codemirror_mode": {
    "name": "ipython",
    "version": 3
   },
   "file_extension": ".py",
   "mimetype": "text/x-python",
   "name": "python",
   "nbconvert_exporter": "python",
   "pygments_lexer": "ipython3",
   "version": "3.9.7"
  }
 },
 "nbformat": 4,
 "nbformat_minor": 5
}
