{
 "cells": [
  {
   "cell_type": "code",
   "execution_count": 30,
   "metadata": {},
   "outputs": [],
   "source": [
    "import pandas as pd\n",
    "import matplotlib.pyplot as plt\n",
    "from sklearn.model_selection import train_test_split\n",
    "import numpy as np\n"
   ]
  },
  {
   "cell_type": "code",
   "execution_count": 31,
   "metadata": {},
   "outputs": [
    {
     "name": "stdout",
     "output_type": "stream",
     "text": [
      "(1987, 2836)\n",
      "<class 'pandas.core.frame.DataFrame'>\n",
      "RangeIndex: 1987 entries, 0 to 1986\n",
      "Columns: 2836 entries, Unnamed: 0 to Top Genre_yacht rock\n",
      "dtypes: float64(8), int64(2828)\n",
      "memory usage: 43.0 MB\n"
     ]
    }
   ],
   "source": [
    "songsData = pd.read_csv('Data/M03DataProcessingClean.csv')\n",
    "print(songsData.shape)\n",
    "songsData.info()"
   ]
  },
  {
   "cell_type": "markdown",
   "metadata": {},
   "source": [
    "1. Using your processed data set from the previous exercise, create a new Pandas DataFrame called X that includes everything except the target variable column. Make sure this is a new object; don't overwrite any previous data sets. (use Popularity as Target)"
   ]
  },
  {
   "cell_type": "code",
   "execution_count": 32,
   "metadata": {},
   "outputs": [
    {
     "name": "stdout",
     "output_type": "stream",
     "text": [
      "(1987, 2835)\n",
      "<class 'pandas.core.frame.DataFrame'>\n",
      "RangeIndex: 1987 entries, 0 to 1986\n",
      "Columns: 2835 entries, Unnamed: 0 to Top Genre_yacht rock\n",
      "dtypes: float64(7), int64(2828)\n",
      "memory usage: 43.0 MB\n"
     ]
    }
   ],
   "source": [
    "X = songsData.drop('Popularity', axis=1)\n",
    "print(X.shape)\n",
    "X.info()\n"
   ]
  },
  {
   "cell_type": "markdown",
   "metadata": {},
   "source": [
    "2. Create a new Pandas Series called y that includes just the target variable column. Again, make sure this is a new object."
   ]
  },
  {
   "cell_type": "code",
   "execution_count": 33,
   "metadata": {},
   "outputs": [
    {
     "name": "stdout",
     "output_type": "stream",
     "text": [
      "0    71.0\n",
      "1    39.0\n",
      "2    69.0\n",
      "3    76.0\n",
      "4    59.0\n",
      "Name: Popularity, dtype: float64\n"
     ]
    }
   ],
   "source": [
    "y = songsData['Popularity']\n",
    "print(y.head())\n"
   ]
  },
  {
   "cell_type": "markdown",
   "metadata": {},
   "source": [
    "3. Following the documentation above, create new objects X_train, X_test, y_train, and y_test. Let the test set be 30% of the original data set. Specify a random seed value of your choice so you can reproduce your steps later."
   ]
  },
  {
   "cell_type": "code",
   "execution_count": 34,
   "metadata": {},
   "outputs": [],
   "source": [
    "X_train, X_test, y_train, y_test = train_test_split(X, y, test_size=0.30, random_state=42)"
   ]
  },
  {
   "cell_type": "markdown",
   "metadata": {},
   "source": [
    "4. Use the Pandas .describe() method to compare the descriptive statistics of the training sets and test sets."
   ]
  },
  {
   "cell_type": "code",
   "execution_count": 35,
   "metadata": {},
   "outputs": [
    {
     "name": "stdout",
     "output_type": "stream",
     "text": [
      "count    1987.000000\n",
      "mean      120.156802\n",
      "std        28.101495\n",
      "min        34.314724\n",
      "25%        99.000000\n",
      "50%       119.000000\n",
      "75%       136.000000\n",
      "max       206.154262\n",
      "Name: Beats Per Minute (BPM), dtype: float64\n",
      "count    1390.000000\n",
      "mean      119.917673\n",
      "std        27.640104\n",
      "min        34.314724\n",
      "25%        99.000000\n",
      "50%       120.000000\n",
      "75%       135.000000\n",
      "max       206.154262\n",
      "Name: Beats Per Minute (BPM), dtype: float64\n",
      "count    597.000000\n",
      "mean     120.713568\n",
      "std       29.163564\n",
      "min       61.000000\n",
      "25%       98.000000\n",
      "50%      118.000000\n",
      "75%      138.000000\n",
      "max      206.000000\n",
      "Name: Beats Per Minute (BPM), dtype: float64\n",
      "count    1390.000000\n",
      "mean       59.564398\n",
      "std        14.117254\n",
      "min        16.411725\n",
      "25%        50.000000\n",
      "50%        62.000000\n",
      "75%        71.000000\n",
      "max       100.000000\n",
      "Name: Popularity, dtype: float64\n",
      "count    597.000000\n",
      "mean      59.422504\n",
      "std       14.819989\n",
      "min       16.411725\n",
      "25%       49.000000\n",
      "50%       62.000000\n",
      "75%       71.000000\n",
      "max       98.000000\n",
      "Name: Popularity, dtype: float64\n"
     ]
    }
   ],
   "source": [
    "print(songsData['Beats Per Minute (BPM)'].describe())\n",
    "print(X_train['Beats Per Minute (BPM)'].describe())\n",
    "print(X_test['Beats Per Minute (BPM)'].describe())\n",
    "print(y_train.describe())\n",
    "print(y_test.describe())\n"
   ]
  },
  {
   "cell_type": "markdown",
   "metadata": {},
   "source": [
    "The Mean and Std Dev are similar but not exact between the original data, training data, and test data for the BPM column."
   ]
  },
  {
   "cell_type": "code",
   "execution_count": 36,
   "metadata": {},
   "outputs": [],
   "source": [
    "X_train.to_csv('Data/M03ModelTraining_X_train.csv')\n",
    "X_test.to_csv('Data/M03ModelTraining_X_test.csv')\n",
    "y_train.to_csv('Data/M03ModelTraining_y_train.csv')\n",
    "y_test.to_csv('Data/M03ModelTraining_y_test.csv')\n",
    "\n"
   ]
  }
 ],
 "metadata": {
  "interpreter": {
   "hash": "5c6de44c681b342ec51b1de181fee9b517a6326e3c382e784e1b8c6142c576ac"
  },
  "kernelspec": {
   "display_name": "Python 3.9.7 64-bit ('base': conda)",
   "language": "python",
   "name": "python3"
  },
  "language_info": {
   "codemirror_mode": {
    "name": "ipython",
    "version": 3
   },
   "file_extension": ".py",
   "mimetype": "text/x-python",
   "name": "python",
   "nbconvert_exporter": "python",
   "pygments_lexer": "ipython3",
   "version": "3.9.7"
  },
  "orig_nbformat": 4
 },
 "nbformat": 4,
 "nbformat_minor": 2
}
