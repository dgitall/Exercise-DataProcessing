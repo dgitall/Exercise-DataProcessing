{
 "cells": [
  {
   "cell_type": "code",
   "execution_count": null,
   "metadata": {},
   "outputs": [],
   "source": [
    "import pandas as pd\n",
    "import seaborn as sns\n",
    "import matplotlib.pyplot as plt\n",
    "\n",
    "LASSOData = pd.read_csv('Data/LASSO-data-set.csv')\n",
    "LASSOData.info()\n"
   ]
  },
  {
   "cell_type": "code",
   "execution_count": null,
   "metadata": {},
   "outputs": [],
   "source": [
    "# seperate the dependent variable out\n",
    "X = LASSOData.drop('score', axis=1)\n",
    "print(X.info())\n",
    "\n",
    "y = LASSOData['score']\n",
    "print(y.head())\n"
   ]
  },
  {
   "cell_type": "code",
   "execution_count": null,
   "metadata": {},
   "outputs": [],
   "source": [
    "# Create testing and training sets\n",
    "from sklearn.model_selection import train_test_split\n",
    "\n",
    "X_train, X_test, y_train, y_test = train_test_split(\n",
    "    X, y, test_size=0.25, random_state=0)\n"
   ]
  },
  {
   "cell_type": "markdown",
   "metadata": {},
   "source": [
    "Do a Lasso Cross Validation model"
   ]
  },
  {
   "cell_type": "code",
   "execution_count": null,
   "metadata": {},
   "outputs": [],
   "source": [
    "# Train the model\n",
    "from sklearn.linear_model import LassoCV\n",
    "reg = LassoCV().fit(X_train, y_train)\n"
   ]
  },
  {
   "cell_type": "code",
   "execution_count": null,
   "metadata": {},
   "outputs": [],
   "source": [
    "predictions_test_lasso = reg.predict(X_test)\n",
    "residuals_test_lasso = predictions_test_lasso - y_test\n"
   ]
  },
  {
   "cell_type": "code",
   "execution_count": null,
   "metadata": {},
   "outputs": [],
   "source": [
    "import matplotlib.pyplot as plt\n",
    "\n",
    "sns.set_style('whitegrid')\n",
    "fig, ax = plt.subplots()\n",
    "ax.plot([0, 1], [0, 1], transform=ax.transAxes, color='red')\n",
    "ax.scatter(x=predictions_test_lasso, y=y_test, )\n",
    "\"\"\" ax.set_xlim(18, 37)\n",
    "ax.set_ylim(18, 37) \"\"\"\n",
    "ax.set_xlabel('Predicted Values for Score')\n",
    "ax.set_ylabel('Actual Values for Score')\n",
    "plt.show()\n"
   ]
  },
  {
   "cell_type": "code",
   "execution_count": null,
   "metadata": {},
   "outputs": [],
   "source": [
    "# Display the residuals versus the actual values\n",
    "sns.set_style('whitegrid')\n",
    "fig, ax = plt.subplots()\n",
    "ax.scatter(x=y_test, y=residuals_test_lasso)\n",
    "ax.hlines(0, 0, 800, color='red')\n",
    "\"\"\" ax.set_xlim(18, 37)\n",
    "ax.set_ylim(18, 37) \"\"\"\n",
    "ax.set_xlabel('Actual Values for Score')\n",
    "ax.set_ylabel('Residuals')\n",
    "plt.show()\n"
   ]
  },
  {
   "cell_type": "code",
   "execution_count": null,
   "metadata": {},
   "outputs": [],
   "source": [
    "# Check the model fit\n",
    "from sklearn.metrics import median_absolute_error\n",
    "score_lasso = reg.score(X_test, y_test)\n",
    "MAE_lasso = median_absolute_error(y_test, predictions_test_lasso)\n",
    "print(f\"R2 = {round(score_lasso,4)}\")\n",
    "print(\n",
    "    f\"Median Abs Error = {round(MAE_lasso,4)}\")\n"
   ]
  },
  {
   "cell_type": "code",
   "execution_count": null,
   "metadata": {},
   "outputs": [],
   "source": [
    "# Get the model coefficients\n",
    "coeffs_lasso = reg.coef_\n",
    "print(len(coeffs_lasso))\n",
    "columns = X_train.columns\n",
    "string = f\"y = {round(reg.intercept_,4)}\"\n",
    "for idx, coeff in enumerate(coeffs_lasso):\n",
    "    string += f\" + {round(coeff,4)}*{columns[idx]}\"\n",
    "print(string)\n",
    "print(f\"There are {(coeffs_lasso == 0).sum()} coefficients that equal zero\")\n"
   ]
  },
  {
   "cell_type": "markdown",
   "metadata": {},
   "source": [
    "Do a regular linear regression"
   ]
  },
  {
   "cell_type": "code",
   "execution_count": null,
   "metadata": {},
   "outputs": [],
   "source": [
    "# Train the model\n",
    "from sklearn.linear_model import LinearRegression\n",
    "reglr = LinearRegression().fit(X_train, y_train)\n",
    "predictions_test_lr = reglr.predict(X_test)\n",
    "residuals_test_lr = predictions_test_lr - y_test\n"
   ]
  },
  {
   "cell_type": "code",
   "execution_count": null,
   "metadata": {},
   "outputs": [],
   "source": [
    "import matplotlib.pyplot as plt\n",
    "\n",
    "sns.set_style('whitegrid')\n",
    "fig, ax = plt.subplots()\n",
    "ax.plot([0, 1], [0, 1], transform=ax.transAxes, color='red')\n",
    "ax.scatter(x=predictions_test_lr, y=y_test, )\n",
    "\"\"\" ax.set_xlim(18, 37)\n",
    "ax.set_ylim(18, 37) \"\"\"\n",
    "ax.set_xlabel('Predicted Values for Score')\n",
    "ax.set_ylabel('Actual Values for Score')\n",
    "plt.show()\n"
   ]
  },
  {
   "cell_type": "code",
   "execution_count": null,
   "metadata": {},
   "outputs": [],
   "source": [
    "# Display the residuals versus the actual values\n",
    "sns.set_style('whitegrid')\n",
    "fig, ax = plt.subplots()\n",
    "ax.scatter(x=y_test, y=residuals_test_lr)\n",
    "ax.hlines(0, 0, 800, color='red')\n",
    "\"\"\" ax.set_xlim(18, 37)\n",
    "ax.set_ylim(18, 37) \"\"\"\n",
    "ax.set_xlabel('Actual Values for Score')\n",
    "ax.set_ylabel('Residuals')\n",
    "plt.show()\n"
   ]
  },
  {
   "cell_type": "code",
   "execution_count": null,
   "metadata": {},
   "outputs": [],
   "source": [
    "# Check the model fit\n",
    "from sklearn.metrics import median_absolute_error\n",
    "score_lr = reglr.score(X_test, y_test)\n",
    "MAE_lr = median_absolute_error(y_test, predictions_test_lr)\n",
    "print(f\"R2 = {round(score_lr,4)}\")\n",
    "print(\n",
    "    f\"Median Abs Error = {round(MAE_lr,4)}\")\n"
   ]
  },
  {
   "cell_type": "code",
   "execution_count": null,
   "metadata": {},
   "outputs": [],
   "source": [
    "# Get the model coefficients\n",
    "coeffs_lr = reglr.coef_\n",
    "print(len(coeffs_lr))\n",
    "columns = X_train.columns\n",
    "string = f\"y = {round(reglr.intercept_,4)}\"\n",
    "for idx, coeff in enumerate(coeffs_lr):\n",
    "    string += f\" + {round(coeff,4)}*{columns[idx]}\"\n",
    "print(string)\n",
    "print(f\"There are {(coeffs_lr == 0).sum()} coefficients that equal zero\")\n"
   ]
  },
  {
   "cell_type": "markdown",
   "metadata": {},
   "source": [
    "The models were remarkably similar in most of the metrics. This is probably because the linear regression model fits so closely already. The main difference is that the LASSO CV model removed 8 or the 16 coefficients while the linear regression model used all 16."
   ]
  }
 ],
 "metadata": {
  "interpreter": {
   "hash": "5c6de44c681b342ec51b1de181fee9b517a6326e3c382e784e1b8c6142c576ac"
  },
  "kernelspec": {
   "display_name": "Python 3.9.7 64-bit ('base': conda)",
   "language": "python",
   "name": "python3"
  },
  "language_info": {
   "codemirror_mode": {
    "name": "ipython",
    "version": 3
   },
   "file_extension": ".py",
   "mimetype": "text/x-python",
   "name": "python",
   "nbconvert_exporter": "python",
   "pygments_lexer": "ipython3",
   "version": "3.9.7"
  },
  "orig_nbformat": 4
 },
 "nbformat": 4,
 "nbformat_minor": 2
}
