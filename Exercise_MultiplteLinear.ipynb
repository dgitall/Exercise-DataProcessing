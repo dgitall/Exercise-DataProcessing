{
 "cells": [
  {
   "cell_type": "code",
   "execution_count": 1,
   "metadata": {},
   "outputs": [
    {
     "name": "stdout",
     "output_type": "stream",
     "text": [
      "<class 'pandas.core.frame.DataFrame'>\n",
      "RangeIndex: 93 entries, 0 to 92\n",
      "Data columns (total 28 columns):\n",
      " #   Column              Non-Null Count  Dtype  \n",
      "---  ------              --------------  -----  \n",
      " 0   Unnamed: 0          93 non-null     int64  \n",
      " 1   Manufacturer        93 non-null     object \n",
      " 2   Model               93 non-null     object \n",
      " 3   Type                93 non-null     object \n",
      " 4   Min.Price           93 non-null     float64\n",
      " 5   Price               93 non-null     float64\n",
      " 6   Max.Price           93 non-null     float64\n",
      " 7   MPG.city            93 non-null     int64  \n",
      " 8   MPG.highway         93 non-null     int64  \n",
      " 9   AirBags             93 non-null     object \n",
      " 10  DriveTrain          93 non-null     object \n",
      " 11  Cylinders           93 non-null     object \n",
      " 12  EngineSize          93 non-null     float64\n",
      " 13  Horsepower          93 non-null     int64  \n",
      " 14  RPM                 93 non-null     int64  \n",
      " 15  Rev.per.mile        93 non-null     int64  \n",
      " 16  Man.trans.avail     93 non-null     object \n",
      " 17  Fuel.tank.capacity  93 non-null     float64\n",
      " 18  Passengers          93 non-null     int64  \n",
      " 19  Length              93 non-null     int64  \n",
      " 20  Wheelbase           93 non-null     int64  \n",
      " 21  Width               93 non-null     int64  \n",
      " 22  Turn.circle         93 non-null     int64  \n",
      " 23  Rear.seat.room      91 non-null     float64\n",
      " 24  Luggage.room        82 non-null     float64\n",
      " 25  Weight              93 non-null     int64  \n",
      " 26  Origin              93 non-null     object \n",
      " 27  Make                93 non-null     object \n",
      "dtypes: float64(7), int64(12), object(9)\n",
      "memory usage: 20.5+ KB\n"
     ]
    }
   ],
   "source": [
    "import pandas as pd\n",
    "import seaborn as sns\n",
    "import matplotlib.pyplot as plt\n",
    "\n",
    "cars = pd.read_csv('Data/cars93.csv')\n",
    "cars.info()"
   ]
  },
  {
   "cell_type": "code",
   "execution_count": 2,
   "metadata": {},
   "outputs": [
    {
     "name": "stdout",
     "output_type": "stream",
     "text": [
      "Manufacturer = 0 (object)\n",
      "Model = 0 (object)\n",
      "Type = 0 (object)\n",
      "Min.Price = 0 (float64)\n",
      "Price = 0 (float64)\n",
      "Max.Price = 0 (float64)\n",
      "MPG.city = 0 (int64)\n",
      "MPG.highway = 0 (int64)\n",
      "AirBags = 0 (object)\n",
      "DriveTrain = 0 (object)\n",
      "Cylinders = 0 (object)\n",
      "EngineSize = 0 (float64)\n",
      "Horsepower = 0 (int64)\n",
      "RPM = 0 (int64)\n",
      "Rev.per.mile = 0 (int64)\n",
      "Man.trans.avail = 0 (object)\n",
      "Fuel.tank.capacity = 0 (float64)\n",
      "Passengers = 0 (int64)\n",
      "Length = 0 (int64)\n",
      "Wheelbase = 0 (int64)\n",
      "Width = 0 (int64)\n",
      "Turn.circle = 0 (int64)\n",
      "Rear.seat.room = 2 (float64)\n",
      "Luggage.room = 11 (float64)\n",
      "Weight = 0 (int64)\n",
      "Origin = 0 (object)\n",
      "Make = 0 (object)\n"
     ]
    }
   ],
   "source": [
    "cars.drop('Unnamed: 0', axis=1, inplace=True)\n",
    "# Are there missing values to drop?\n",
    "for col in cars.columns:\n",
    "    print(f\"{col} = {cars[col].isna().sum()} ({cars[col].dtype})\")\n"
   ]
  },
  {
   "cell_type": "code",
   "execution_count": 3,
   "metadata": {},
   "outputs": [
    {
     "name": "stdout",
     "output_type": "stream",
     "text": [
      "Manufacturer = 0 (object)\n",
      "Model = 0 (object)\n",
      "Type = 0 (object)\n",
      "Min.Price = 0 (float64)\n",
      "Price = 0 (float64)\n",
      "Max.Price = 0 (float64)\n",
      "MPG.city = 0 (int64)\n",
      "MPG.highway = 0 (int64)\n",
      "AirBags = 0 (object)\n",
      "DriveTrain = 0 (object)\n",
      "Cylinders = 0 (object)\n",
      "EngineSize = 0 (float64)\n",
      "Horsepower = 0 (int64)\n",
      "RPM = 0 (int64)\n",
      "Rev.per.mile = 0 (int64)\n",
      "Man.trans.avail = 0 (object)\n",
      "Fuel.tank.capacity = 0 (float64)\n",
      "Passengers = 0 (int64)\n",
      "Length = 0 (int64)\n",
      "Wheelbase = 0 (int64)\n",
      "Width = 0 (int64)\n",
      "Turn.circle = 0 (int64)\n",
      "Rear.seat.room = 0 (float64)\n",
      "Luggage.room = 0 (float64)\n",
      "Weight = 0 (int64)\n",
      "Origin = 0 (object)\n",
      "Make = 0 (object)\n"
     ]
    }
   ],
   "source": [
    "# There are empty valus in the rear.seat.room and luggage.room columns.\n",
    "# They are both float64 so impute both to be the mean. \n",
    "from sklearn.impute import SimpleImputer\n",
    "import numpy as np\n",
    "\n",
    "## Impute the numerical values to the mean\n",
    "imp_mean = SimpleImputer(missing_values=np.nan, strategy='mean')\n",
    "for name, values in cars.select_dtypes('float64').iteritems():\n",
    "    cars[name] = imp_mean.fit_transform(\n",
    "        cars[name].to_numpy().reshape(-1, 1))\n",
    "for col in cars.columns:\n",
    "    print(f\"{col} = {cars[col].isna().sum()} ({cars[col].dtype})\")\n"
   ]
  },
  {
   "cell_type": "code",
   "execution_count": 4,
   "metadata": {},
   "outputs": [
    {
     "name": "stdout",
     "output_type": "stream",
     "text": [
      "(93, 26)\n",
      "0    31\n",
      "1    25\n",
      "2    26\n",
      "3    26\n",
      "4    30\n",
      "Name: MPG.highway, dtype: int64\n"
     ]
    }
   ],
   "source": [
    "# seperate the dependent variable out\n",
    "X = cars.drop('MPG.highway', axis=1)\n",
    "print(X.shape)\n",
    "\n",
    "y = cars['MPG.highway']\n",
    "print(y.head())\n"
   ]
  },
  {
   "cell_type": "code",
   "execution_count": 5,
   "metadata": {},
   "outputs": [
    {
     "name": "stdout",
     "output_type": "stream",
     "text": [
      "(93, 248)\n"
     ]
    },
    {
     "data": {
      "text/html": [
       "<div>\n",
       "<style scoped>\n",
       "    .dataframe tbody tr th:only-of-type {\n",
       "        vertical-align: middle;\n",
       "    }\n",
       "\n",
       "    .dataframe tbody tr th {\n",
       "        vertical-align: top;\n",
       "    }\n",
       "\n",
       "    .dataframe thead th {\n",
       "        text-align: right;\n",
       "    }\n",
       "</style>\n",
       "<table border=\"1\" class=\"dataframe\">\n",
       "  <thead>\n",
       "    <tr style=\"text-align: right;\">\n",
       "      <th></th>\n",
       "      <th>Min.Price</th>\n",
       "      <th>Price</th>\n",
       "      <th>Max.Price</th>\n",
       "      <th>MPG.city</th>\n",
       "      <th>EngineSize</th>\n",
       "      <th>Horsepower</th>\n",
       "      <th>RPM</th>\n",
       "      <th>Rev.per.mile</th>\n",
       "      <th>Fuel.tank.capacity</th>\n",
       "      <th>Passengers</th>\n",
       "      <th>...</th>\n",
       "      <th>Make_Toyota Camry</th>\n",
       "      <th>Make_Toyota Celica</th>\n",
       "      <th>Make_Toyota Previa</th>\n",
       "      <th>Make_Toyota Tercel</th>\n",
       "      <th>Make_Volkswagen Corrado</th>\n",
       "      <th>Make_Volkswagen Eurovan</th>\n",
       "      <th>Make_Volkswagen Fox</th>\n",
       "      <th>Make_Volkswagen Passat</th>\n",
       "      <th>Make_Volvo 240</th>\n",
       "      <th>Make_Volvo 850</th>\n",
       "    </tr>\n",
       "  </thead>\n",
       "  <tbody>\n",
       "    <tr>\n",
       "      <th>0</th>\n",
       "      <td>12.9</td>\n",
       "      <td>15.9</td>\n",
       "      <td>18.8</td>\n",
       "      <td>25</td>\n",
       "      <td>1.8</td>\n",
       "      <td>140</td>\n",
       "      <td>6300</td>\n",
       "      <td>2890</td>\n",
       "      <td>13.2</td>\n",
       "      <td>5</td>\n",
       "      <td>...</td>\n",
       "      <td>0</td>\n",
       "      <td>0</td>\n",
       "      <td>0</td>\n",
       "      <td>0</td>\n",
       "      <td>0</td>\n",
       "      <td>0</td>\n",
       "      <td>0</td>\n",
       "      <td>0</td>\n",
       "      <td>0</td>\n",
       "      <td>0</td>\n",
       "    </tr>\n",
       "    <tr>\n",
       "      <th>1</th>\n",
       "      <td>29.2</td>\n",
       "      <td>33.9</td>\n",
       "      <td>38.7</td>\n",
       "      <td>18</td>\n",
       "      <td>3.2</td>\n",
       "      <td>200</td>\n",
       "      <td>5500</td>\n",
       "      <td>2335</td>\n",
       "      <td>18.0</td>\n",
       "      <td>5</td>\n",
       "      <td>...</td>\n",
       "      <td>0</td>\n",
       "      <td>0</td>\n",
       "      <td>0</td>\n",
       "      <td>0</td>\n",
       "      <td>0</td>\n",
       "      <td>0</td>\n",
       "      <td>0</td>\n",
       "      <td>0</td>\n",
       "      <td>0</td>\n",
       "      <td>0</td>\n",
       "    </tr>\n",
       "    <tr>\n",
       "      <th>2</th>\n",
       "      <td>25.9</td>\n",
       "      <td>29.1</td>\n",
       "      <td>32.3</td>\n",
       "      <td>20</td>\n",
       "      <td>2.8</td>\n",
       "      <td>172</td>\n",
       "      <td>5500</td>\n",
       "      <td>2280</td>\n",
       "      <td>16.9</td>\n",
       "      <td>5</td>\n",
       "      <td>...</td>\n",
       "      <td>0</td>\n",
       "      <td>0</td>\n",
       "      <td>0</td>\n",
       "      <td>0</td>\n",
       "      <td>0</td>\n",
       "      <td>0</td>\n",
       "      <td>0</td>\n",
       "      <td>0</td>\n",
       "      <td>0</td>\n",
       "      <td>0</td>\n",
       "    </tr>\n",
       "    <tr>\n",
       "      <th>3</th>\n",
       "      <td>30.8</td>\n",
       "      <td>37.7</td>\n",
       "      <td>44.6</td>\n",
       "      <td>19</td>\n",
       "      <td>2.8</td>\n",
       "      <td>172</td>\n",
       "      <td>5500</td>\n",
       "      <td>2535</td>\n",
       "      <td>21.1</td>\n",
       "      <td>6</td>\n",
       "      <td>...</td>\n",
       "      <td>0</td>\n",
       "      <td>0</td>\n",
       "      <td>0</td>\n",
       "      <td>0</td>\n",
       "      <td>0</td>\n",
       "      <td>0</td>\n",
       "      <td>0</td>\n",
       "      <td>0</td>\n",
       "      <td>0</td>\n",
       "      <td>0</td>\n",
       "    </tr>\n",
       "    <tr>\n",
       "      <th>4</th>\n",
       "      <td>23.7</td>\n",
       "      <td>30.0</td>\n",
       "      <td>36.2</td>\n",
       "      <td>22</td>\n",
       "      <td>3.5</td>\n",
       "      <td>208</td>\n",
       "      <td>5700</td>\n",
       "      <td>2545</td>\n",
       "      <td>21.1</td>\n",
       "      <td>4</td>\n",
       "      <td>...</td>\n",
       "      <td>0</td>\n",
       "      <td>0</td>\n",
       "      <td>0</td>\n",
       "      <td>0</td>\n",
       "      <td>0</td>\n",
       "      <td>0</td>\n",
       "      <td>0</td>\n",
       "      <td>0</td>\n",
       "      <td>0</td>\n",
       "      <td>0</td>\n",
       "    </tr>\n",
       "  </tbody>\n",
       "</table>\n",
       "<p>5 rows × 248 columns</p>\n",
       "</div>"
      ],
      "text/plain": [
       "   Min.Price  Price  Max.Price  MPG.city  EngineSize  Horsepower   RPM  \\\n",
       "0       12.9   15.9       18.8        25         1.8         140  6300   \n",
       "1       29.2   33.9       38.7        18         3.2         200  5500   \n",
       "2       25.9   29.1       32.3        20         2.8         172  5500   \n",
       "3       30.8   37.7       44.6        19         2.8         172  5500   \n",
       "4       23.7   30.0       36.2        22         3.5         208  5700   \n",
       "\n",
       "   Rev.per.mile  Fuel.tank.capacity  Passengers  ...  Make_Toyota Camry  \\\n",
       "0          2890                13.2           5  ...                  0   \n",
       "1          2335                18.0           5  ...                  0   \n",
       "2          2280                16.9           5  ...                  0   \n",
       "3          2535                21.1           6  ...                  0   \n",
       "4          2545                21.1           4  ...                  0   \n",
       "\n",
       "   Make_Toyota Celica  Make_Toyota Previa  Make_Toyota Tercel  \\\n",
       "0                   0                   0                   0   \n",
       "1                   0                   0                   0   \n",
       "2                   0                   0                   0   \n",
       "3                   0                   0                   0   \n",
       "4                   0                   0                   0   \n",
       "\n",
       "   Make_Volkswagen Corrado  Make_Volkswagen Eurovan  Make_Volkswagen Fox  \\\n",
       "0                        0                        0                    0   \n",
       "1                        0                        0                    0   \n",
       "2                        0                        0                    0   \n",
       "3                        0                        0                    0   \n",
       "4                        0                        0                    0   \n",
       "\n",
       "   Make_Volkswagen Passat  Make_Volvo 240  Make_Volvo 850  \n",
       "0                       0               0               0  \n",
       "1                       0               0               0  \n",
       "2                       0               0               0  \n",
       "3                       0               0               0  \n",
       "4                       0               0               0  \n",
       "\n",
       "[5 rows x 248 columns]"
      ]
     },
     "execution_count": 5,
     "metadata": {},
     "output_type": "execute_result"
    }
   ],
   "source": [
    "# Create dummy values for categorical data\n",
    "X = pd.get_dummies(X, drop_first=True)\n",
    "print(X.shape)\n",
    "X.head()\n"
   ]
  },
  {
   "cell_type": "code",
   "execution_count": 6,
   "metadata": {},
   "outputs": [
    {
     "name": "stdout",
     "output_type": "stream",
     "text": [
      "(69, 248)\n",
      "(24, 248)\n"
     ]
    }
   ],
   "source": [
    "# Create testing and training sets\n",
    "from sklearn.model_selection import train_test_split\n",
    "\n",
    "X_train, X_test, y_train, y_test = train_test_split(\n",
    "    X, y, test_size=0.25, random_state=0)\n",
    "print(X_train.shape)\n",
    "print(X_test.shape)"
   ]
  },
  {
   "cell_type": "code",
   "execution_count": 7,
   "metadata": {},
   "outputs": [],
   "source": [
    "# Train the model\n",
    "from sklearn.linear_model import LinearRegression\n",
    "reg = LinearRegression().fit(X_train, y_train)"
   ]
  },
  {
   "cell_type": "code",
   "execution_count": 8,
   "metadata": {},
   "outputs": [],
   "source": [
    "predictions_test = reg.predict(X_test)\n",
    "residuals_test = predictions_test - y_test"
   ]
  },
  {
   "cell_type": "code",
   "execution_count": 15,
   "metadata": {},
   "outputs": [
    {
     "data": {
      "image/png": "[encoded data removed]",
      "text/plain": [
       "<Figure size 432x288 with 1 Axes>"
      ]
     },
     "metadata": {},
     "output_type": "display_data"
    }
   ],
   "source": [
    "import matplotlib.pyplot as plt\n",
    "\n",
    "sns.set_style('whitegrid')\n",
    "fig, ax = plt.subplots()\n",
    "ax.plot([0, 1], [0, 1], transform=ax.transAxes, color='red')\n",
    "ax.scatter(x=predictions_test, y=y_test, )\n",
    "ax.set_xlim(18, 37)\n",
    "ax.set_ylim(18, 37)\n",
    "ax.set_xlabel('Predicted Values for MPG-Highway')\n",
    "ax.set_ylabel('Actual Values for MPG-Highway')\n",
    "ax.set_title('Q-Q Plot: MPG-Highway')\n",
    "plt.show()\n"
   ]
  },
  {
   "cell_type": "code",
   "execution_count": 10,
   "metadata": {},
   "outputs": [
    {
     "data": {
      "image/png": "[encoded data removed]",
      "text/plain": [
       "<Figure size 432x288 with 1 Axes>"
      ]
     },
     "metadata": {},
     "output_type": "display_data"
    }
   ],
   "source": [
    "# Display the residuals versus the actual values\n",
    "sns.set_style('whitegrid')\n",
    "fig, ax = plt.subplots()\n",
    "ax.scatter(x=y_test, y=residuals_test)\n",
    "ax.hlines(0, 18, 37, color='red')\n",
    "ax.set_xlim(18, 37)\n",
    "\"\"\" ax.set_ylim(18, 37) \"\"\"\n",
    "ax.set_xlabel('Actual Values for MPG-Highway')\n",
    "ax.set_ylabel('Residuals')\n",
    "ax.set_title('Residuals: MPG.Highway')\n",
    "plt.show()\n"
   ]
  },
  {
   "cell_type": "code",
   "execution_count": 13,
   "metadata": {},
   "outputs": [
    {
     "name": "stdout",
     "output_type": "stream",
     "text": [
      "R2 = 0.8224\n"
     ]
    }
   ],
   "source": [
    "# Check the model fit on the test set\n",
    "print(f\"R2 = {round(reg.score(X_test, y_test),4)}\")"
   ]
  },
  {
   "cell_type": "code",
   "execution_count": 12,
   "metadata": {},
   "outputs": [
    {
     "name": "stdout",
     "output_type": "stream",
     "text": [
      "248\n",
      "y = 8.9193 + 0.0142*Min.Price + -0.0979*Price + 0.0635*Max.Price + 0.83*MPG.city + 0.3832*EngineSize + -0.0029*Horsepower + 0.0002*RPM + -0.0003*Rev.per.mile + -0.105*Fuel.tank.capacity + -0.5371*Passengers + 0.0536*Length + 0.0292*Wheelbase + 0.0146*Width + -0.0661*Turn.circle + -0.1228*Rear.seat.room + 0.1697*Luggage.room + -0.0015*Weight + 0.1457*Manufacturer_Audi + 0.6004*Manufacturer_BMW + 0.4976*Manufacturer_Buick + 0.558*Manufacturer_Cadillac + 0.6196*Manufacturer_Chevrolet + -0.0367*Manufacturer_Chrylser + -0.6994*Manufacturer_Chrysler + -0.4097*Manufacturer_Dodge + -0.6773*Manufacturer_Eagle + -0.6177*Manufacturer_Ford + 0.3727*Manufacturer_Geo + -0.0109*Manufacturer_Honda + 0.0047*Manufacturer_Hyundai + -0.3501*Manufacturer_Infiniti + -0.447*Manufacturer_Lexus + 0.319*Manufacturer_Lincoln + 0.8252*Manufacturer_Mazda + 0.2953*Manufacturer_Mercedes-Benz + -0.1979*Manufacturer_Mercury + -0.1972*Manufacturer_Mitsubishi + -0.4528*Manufacturer_Nissan + -0.1318*Manufacturer_Oldsmobile + 0.2373*Manufacturer_Plymouth + 0.6547*Manufacturer_Pontiac + -0.0*Manufacturer_Saab + -0.0*Manufacturer_Saturn + -0.3661*Manufacturer_Subaru + -0.0898*Manufacturer_Suzuki + -0.1624*Manufacturer_Toyota + 0.5556*Manufacturer_Volkswagen + -0.1068*Manufacturer_Volvo + 0.8501*Model_190E + -0.1068*Model_240 + -0.5548*Model_300E + 0.1129*Model_323 + 0.6004*Model_535i + 0.241*Model_626 + 0.0*Model_850 + -0.0*Model_90 + -0.0*Model_900 + 0.0*Model_Accord + -0.2993*Model_Achieva + 0.3751*Model_Aerostar + -0.2412*Model_Altima + -0.0*Model_Astro + 0.4176*Model_Bonneville + -0.0*Model_Camaro + -0.1355*Model_Camry + -0.0*Model_Capri + -0.2525*Model_Caprice + -0.3536*Model_Caravan + 1.0646*Model_Cavalier + 0.1276*Model_Celica + 0.4976*Model_Century + -0.3152*Model_Civic + 0.0*Model_Colt + -0.0367*Model_Concorde + 0.319*Model_Continental + -0.2109*Model_Corrado + 0.3672*Model_Corsica + -0.0762*Model_Corvette + -0.1979*Model_Cougar + 0.0137*Model_Crown_Victoria + 0.0*Model_Cutlass_Ciera + -0.0403*Model_DeVille + -0.1972*Model_Diamante + 0.0*Model_Dynasty + -0.093*Model_ES300 + 0.4035*Model_Eighty-Eight + 0.1696*Model_Elantra + 0.3238*Model_Escort + -0.3204*Model_Eurovan + 0.0*Model_Excel + 0.0*Model_Festiva + 0.1445*Model_Firebird + 0.3068*Model_Fox + -0.3796*Model_Grand_Prix + -0.2068*Model_Imperial + -0.3796*Model_Integra + -0.1561*Model_Justy + 0.2373*Model_Laser + -0.4926*Model_LeBaron + 0.839*Model_LeMans + 0.0*Model_LeSabre + 0.2484*Model_Legacy + -0.3526*Model_Legend + -0.4584*Model_Loyale + -0.2256*Model_Lumina + -0.2578*Model_Lumina_APV + 0.0*Model_MPV + 0.0*Model_Maxima + 0.4473*Model_Metro + 0.0*Model_Mirage + 0.0*Model_Mustang + 0.7801*Model_Passat + 0.3043*Model_Prelude + -0.059*Model_Previa + -1.1287*Model_Probe + 0.4713*Model_Protege + -0.3501*Model_Q45 + 0.5677*Model_Quest + 0.0*Model_RX-7 + 0.0*Model_Riviera + 0.0*Model_Roadmaster + -0.354*Model_SC300 + 0.0*Model_SL + 0.0*Model_Scoupe + -0.7793*Model_Sentra + 0.5983*Model_Seville + -0.1949*Model_Shadow + -0.2361*Model_Silhouette + -0.1649*Model_Sonata + 0.0*Model_Spirit + 0.1388*Model_Stealth + -0.0746*Model_Storm + -0.867*Model_Summit + -0.3669*Model_Sunbird + -0.0898*Model_Swift + 0.6668*Model_Taurus + -0.8684*Model_Tempo + -0.0955*Model_Tercel + 0.0*Model_Town_Car + 0.1897*Model_Vision + 0.4883*Type_Large + -0.1774*Type_Midsize + -0.665*Type_Small + -0.5378*Type_Sporty + -0.2842*Type_Van + -0.1702*AirBags_Driver only + -0.1583*AirBags_None + 0.3112*DriveTrain_Front + -0.2836*DriveTrain_Rear + 0.2887*Cylinders_4 + -0.3204*Cylinders_5 + -0.0626*Cylinders_6 + -0.107*Cylinders_8 + 0.0*Cylinders_rotary + 0.0271*Man.trans.avail_Yes + -0.1158*Origin_non-USA + -0.3526*Make_Acura Legend + 0.1457*Make_Audi 100 + 0.0*Make_Audi 90 + 0.6004*Make_BMW 535i + 0.4976*Make_Buick Century + 0.0*Make_Buick LeSabre + 0.0*Make_Buick Riviera + 0.0*Make_Buick Roadmaster + -0.0403*Make_Cadillac DeVille + 0.5983*Make_Cadillac Seville + 0.0*Make_Chevrolet Astro + 0.0*Make_Chevrolet Camaro + -0.2525*Make_Chevrolet Caprice + 1.0646*Make_Chevrolet Cavalier + 0.3672*Make_Chevrolet Corsica + -0.0762*Make_Chevrolet Corvette + -0.2256*Make_Chevrolet Lumina + -0.2578*Make_Chevrolet Lumina_APV + -0.0367*Make_Chrylser Concorde + -0.2068*Make_Chrysler Imperial + -0.4926*Make_Chrysler LeBaron + -0.3536*Make_Dodge Caravan + 0.0*Make_Dodge Colt + 0.0*Make_Dodge Dynasty + -0.1949*Make_Dodge Shadow + 0.0*Make_Dodge Spirit + 0.1388*Make_Dodge Stealth + -0.867*Make_Eagle Summit + 0.1897*Make_Eagle Vision + 0.3751*Make_Ford Aerostar + 0.0137*Make_Ford Crown_Victoria + 0.3238*Make_Ford Escort + 0.0*Make_Ford Festiva + 0.0*Make_Ford Mustang + -1.1287*Make_Ford Probe + 0.6668*Make_Ford Taurus + -0.8684*Make_Ford Tempo + 0.4473*Make_Geo Metro + -0.0746*Make_Geo Storm + 0.0*Make_Honda Accord + -0.3152*Make_Honda Civic + 0.3043*Make_Honda Prelude + 0.1696*Make_Hyundai Elantra + 0.0*Make_Hyundai Excel + 0.0*Make_Hyundai Scoupe + -0.1649*Make_Hyundai Sonata + -0.3501*Make_Infiniti Q45 + -0.093*Make_Lexus ES300 + -0.354*Make_Lexus SC300 + 0.319*Make_Lincoln Continental + 0.0*Make_Lincoln Town_Car + 0.1129*Make_Mazda 323 + 0.241*Make_Mazda 626 + 0.0*Make_Mazda MPV + 0.4713*Make_Mazda Protege + 0.0*Make_Mazda RX-7 + 0.8501*Make_Mercedes-Benz 190E + -0.5548*Make_Mercedes-Benz 300E + 0.0*Make_Mercury Capri + -0.1979*Make_Mercury Cougar + -0.1972*Make_Mitsubishi Diamante + 0.0*Make_Mitsubishi Mirage + -0.2412*Make_Nissan Altima + 0.0*Make_Nissan Maxima + 0.5677*Make_Nissan Quest + -0.7793*Make_Nissan Sentra + -0.2993*Make_Oldsmobile Achieva + 0.0*Make_Oldsmobile Cutlass_Ciera + 0.4035*Make_Oldsmobile Eighty-Eight + -0.2361*Make_Oldsmobile Silhouette + 0.2373*Make_Plymouth Laser + 0.4176*Make_Pontiac Bonneville + 0.1445*Make_Pontiac Firebird + -0.3796*Make_Pontiac Grand_Prix + 0.839*Make_Pontiac LeMans + -0.3669*Make_Pontiac Sunbird + 0.0*Make_Saab 900 + 0.0*Make_Saturn SL + -0.1561*Make_Subaru Justy + 0.2484*Make_Subaru Legacy + -0.4584*Make_Subaru Loyale + -0.0898*Make_Suzuki Swift + -0.1355*Make_Toyota Camry + 0.1276*Make_Toyota Celica + -0.059*Make_Toyota Previa + -0.0955*Make_Toyota Tercel + -0.2109*Make_Volkswagen Corrado + -0.3204*Make_Volkswagen Eurovan + 0.3068*Make_Volkswagen Fox + 0.7801*Make_Volkswagen Passat + -0.1068*Make_Volvo 240 + 0.0*Make_Volvo 850\n",
      "There are 42 coefficients that equal zero\n"
     ]
    }
   ],
   "source": [
    "# Get the model coefficients\n",
    "coeffs = reg.coef_\n",
    "print(len(coeffs))\n",
    "columns = X_train.columns\n",
    "string = f\"y = {round(reg.intercept_,4)}\"\n",
    "for idx, coeff in enumerate(coeffs):\n",
    "    string += f\" + {round(coeff,4)}*{columns[idx]}\"\n",
    "print(string)\n",
    "print(f\"There are {(coeffs == 0).sum()} coefficients that equal zero\")\n"
   ]
  }
 ],
 "metadata": {
  "interpreter": {
   "hash": "5c6de44c681b342ec51b1de181fee9b517a6326e3c382e784e1b8c6142c576ac"
  },
  "kernelspec": {
   "display_name": "Python 3.9.7 64-bit ('base': conda)",
   "language": "python",
   "name": "python3"
  },
  "language_info": {
   "codemirror_mode": {
    "name": "ipython",
    "version": 3
   },
   "file_extension": ".py",
   "mimetype": "text/x-python",
   "name": "python",
   "nbconvert_exporter": "python",
   "pygments_lexer": "ipython3",
   "version": "3.9.7"
  },
  "orig_nbformat": 4
 },
 "nbformat": 4,
 "nbformat_minor": 2
}
