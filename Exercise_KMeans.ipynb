{
 "cells": [
  {
   "cell_type": "markdown",
   "metadata": {},
   "source": [
    "# Exercise: K-Means Clustering"
   ]
  },
  {
   "cell_type": "code",
   "execution_count": 7,
   "metadata": {},
   "outputs": [
    {
     "name": "stdout",
     "output_type": "stream",
     "text": [
      "<class 'pandas.core.frame.DataFrame'>\n",
      "RangeIndex: 344 entries, 0 to 343\n",
      "Data columns (total 10 columns):\n",
      " #   Column               Non-Null Count  Dtype  \n",
      "---  ------               --------------  -----  \n",
      " 0   Region               344 non-null    object \n",
      " 1   Stage                344 non-null    object \n",
      " 2   Individual ID        344 non-null    object \n",
      " 3   Culmen Length (mm)   342 non-null    float64\n",
      " 4   Culmen Depth (mm)    342 non-null    float64\n",
      " 5   Flipper Length (mm)  342 non-null    float64\n",
      " 6   Body Mass (g)        342 non-null    float64\n",
      " 7   Delta 15 N (o/oo)    330 non-null    float64\n",
      " 8   Delta 13 C (o/oo)    331 non-null    float64\n",
      " 9   Comments             26 non-null     object \n",
      "dtypes: float64(6), object(4)\n",
      "memory usage: 27.0+ KB\n"
     ]
    }
   ],
   "source": [
    "import pandas as pd\n",
    "import seaborn as sns\n",
    "import matplotlib.pyplot as plt\n",
    "\n",
    "animalData = pd.read_csv('Data/2021-11-ml-09-k-means-animals-dataset.csv')\n",
    "animalData.info()\n"
   ]
  },
  {
   "cell_type": "code",
   "execution_count": null,
   "metadata": {},
   "outputs": [],
   "source": []
  },
  {
   "cell_type": "code",
   "execution_count": 8,
   "metadata": {},
   "outputs": [],
   "source": [
    "# It looks like there may be a few missing values. Let's check to see if there are any rows that have almost all empty"
   ]
  },
  {
   "cell_type": "code",
   "execution_count": 9,
   "metadata": {},
   "outputs": [
    {
     "data": {
      "text/html": [
       "<div>\n",
       "<style scoped>\n",
       "    .dataframe tbody tr th:only-of-type {\n",
       "        vertical-align: middle;\n",
       "    }\n",
       "\n",
       "    .dataframe tbody tr th {\n",
       "        vertical-align: top;\n",
       "    }\n",
       "\n",
       "    .dataframe thead th {\n",
       "        text-align: right;\n",
       "    }\n",
       "</style>\n",
       "<table border=\"1\" class=\"dataframe\">\n",
       "  <thead>\n",
       "    <tr style=\"text-align: right;\">\n",
       "      <th></th>\n",
       "      <th>Culmen Length (mm)</th>\n",
       "      <th>Culmen Depth (mm)</th>\n",
       "      <th>Flipper Length (mm)</th>\n",
       "      <th>Body Mass (g)</th>\n",
       "      <th>Delta 15 N (o/oo)</th>\n",
       "      <th>Delta 13 C (o/oo)</th>\n",
       "    </tr>\n",
       "  </thead>\n",
       "  <tbody>\n",
       "    <tr>\n",
       "      <th>count</th>\n",
       "      <td>342.000000</td>\n",
       "      <td>342.000000</td>\n",
       "      <td>342.000000</td>\n",
       "      <td>342.000000</td>\n",
       "      <td>330.000000</td>\n",
       "      <td>331.000000</td>\n",
       "    </tr>\n",
       "    <tr>\n",
       "      <th>mean</th>\n",
       "      <td>43.921930</td>\n",
       "      <td>17.151170</td>\n",
       "      <td>200.915205</td>\n",
       "      <td>4201.754386</td>\n",
       "      <td>8.733382</td>\n",
       "      <td>-25.686292</td>\n",
       "    </tr>\n",
       "    <tr>\n",
       "      <th>std</th>\n",
       "      <td>5.459584</td>\n",
       "      <td>1.974793</td>\n",
       "      <td>14.061714</td>\n",
       "      <td>801.954536</td>\n",
       "      <td>0.551770</td>\n",
       "      <td>0.793961</td>\n",
       "    </tr>\n",
       "    <tr>\n",
       "      <th>min</th>\n",
       "      <td>32.100000</td>\n",
       "      <td>13.100000</td>\n",
       "      <td>172.000000</td>\n",
       "      <td>2700.000000</td>\n",
       "      <td>7.632200</td>\n",
       "      <td>-27.018540</td>\n",
       "    </tr>\n",
       "    <tr>\n",
       "      <th>25%</th>\n",
       "      <td>39.225000</td>\n",
       "      <td>15.600000</td>\n",
       "      <td>190.000000</td>\n",
       "      <td>3550.000000</td>\n",
       "      <td>8.299890</td>\n",
       "      <td>-26.320305</td>\n",
       "    </tr>\n",
       "    <tr>\n",
       "      <th>50%</th>\n",
       "      <td>44.450000</td>\n",
       "      <td>17.300000</td>\n",
       "      <td>197.000000</td>\n",
       "      <td>4050.000000</td>\n",
       "      <td>8.652405</td>\n",
       "      <td>-25.833520</td>\n",
       "    </tr>\n",
       "    <tr>\n",
       "      <th>75%</th>\n",
       "      <td>48.500000</td>\n",
       "      <td>18.700000</td>\n",
       "      <td>213.000000</td>\n",
       "      <td>4750.000000</td>\n",
       "      <td>9.172123</td>\n",
       "      <td>-25.062050</td>\n",
       "    </tr>\n",
       "    <tr>\n",
       "      <th>max</th>\n",
       "      <td>59.600000</td>\n",
       "      <td>21.500000</td>\n",
       "      <td>231.000000</td>\n",
       "      <td>6300.000000</td>\n",
       "      <td>10.025440</td>\n",
       "      <td>-23.787670</td>\n",
       "    </tr>\n",
       "  </tbody>\n",
       "</table>\n",
       "</div>"
      ],
      "text/plain": [
       "       Culmen Length (mm)  Culmen Depth (mm)  Flipper Length (mm)  \\\n",
       "count          342.000000         342.000000           342.000000   \n",
       "mean            43.921930          17.151170           200.915205   \n",
       "std              5.459584           1.974793            14.061714   \n",
       "min             32.100000          13.100000           172.000000   \n",
       "25%             39.225000          15.600000           190.000000   \n",
       "50%             44.450000          17.300000           197.000000   \n",
       "75%             48.500000          18.700000           213.000000   \n",
       "max             59.600000          21.500000           231.000000   \n",
       "\n",
       "       Body Mass (g)  Delta 15 N (o/oo)  Delta 13 C (o/oo)  \n",
       "count     342.000000         330.000000         331.000000  \n",
       "mean     4201.754386           8.733382         -25.686292  \n",
       "std       801.954536           0.551770           0.793961  \n",
       "min      2700.000000           7.632200         -27.018540  \n",
       "25%      3550.000000           8.299890         -26.320305  \n",
       "50%      4050.000000           8.652405         -25.833520  \n",
       "75%      4750.000000           9.172123         -25.062050  \n",
       "max      6300.000000          10.025440         -23.787670  "
      ]
     },
     "execution_count": 9,
     "metadata": {},
     "output_type": "execute_result"
    }
   ],
   "source": [
    "# Check if anything looks weird\n",
    "animalData.describe()"
   ]
  },
  {
   "cell_type": "markdown",
   "metadata": {},
   "source": [
    "There are missing values in Delta15 and Delta13. Let's impute some value in them. This can be done here because we aren't breaking into a Training and Testing sets"
   ]
  },
  {
   "cell_type": "code",
   "execution_count": 6,
   "metadata": {},
   "outputs": [
    {
     "name": "stdout",
     "output_type": "stream",
     "text": [
      "       Culmen Length (mm)  Culmen Depth (mm)  Flipper Length (mm)  \\\n",
      "count          342.000000         342.000000           342.000000   \n",
      "mean            43.921930          17.151170           200.915205   \n",
      "std              5.459584           1.974793            14.061714   \n",
      "min             32.100000          13.100000           172.000000   \n",
      "25%             39.225000          15.600000           190.000000   \n",
      "50%             44.450000          17.300000           197.000000   \n",
      "75%             48.500000          18.700000           213.000000   \n",
      "max             59.600000          21.500000           231.000000   \n",
      "\n",
      "       Body Mass (g)  Delta 15 N (o/oo)  Delta 13 C (o/oo)  \n",
      "count     342.000000         344.000000         344.000000  \n",
      "mean     4201.754386           8.733382         -25.686292  \n",
      "std       801.954536           0.540392           0.778770  \n",
      "min      2700.000000           7.632200         -27.018540  \n",
      "25%      3550.000000           8.307415         -26.285460  \n",
      "50%      4050.000000           8.687455         -25.793660  \n",
      "75%      4750.000000           9.136170         -25.089467  \n",
      "max      6300.000000          10.025440         -23.787670  \n"
     ]
    }
   ],
   "source": [
    "from sklearn.impute import SimpleImputer\n",
    "import numpy as np\n",
    "\n",
    "cols = ('Delta 15 N (o/oo)', 'Delta 13 C (o/oo)')\n",
    "\n",
    "## Impute the numerical values to the mean\n",
    "imp_mean = SimpleImputer(missing_values=np.nan, strategy='mean')\n",
    "for col in cols:\n",
    "    animalData[col] = imp_mean.fit_transform(\n",
    "        animalData[col].to_numpy().reshape(-1, 1))\n",
    "\n",
    "print(animalData.describe())\n"
   ]
  },
  {
   "cell_type": "markdown",
   "metadata": {},
   "source": [
    "## Setup and Tuning the Model\n",
    "1. Remove all of the categorical columns and ones that won't help.\n",
    "2. Standardize the remaining columns"
   ]
  },
  {
   "cell_type": "code",
   "execution_count": 2,
   "metadata": {},
   "outputs": [
    {
     "name": "stdout",
     "output_type": "stream",
     "text": [
      "<class 'pandas.core.frame.DataFrame'>\n",
      "RangeIndex: 344 entries, 0 to 343\n",
      "Data columns (total 6 columns):\n",
      " #   Column               Non-Null Count  Dtype  \n",
      "---  ------               --------------  -----  \n",
      " 0   Culmen Length (mm)   342 non-null    float64\n",
      " 1   Culmen Depth (mm)    342 non-null    float64\n",
      " 2   Flipper Length (mm)  342 non-null    float64\n",
      " 3   Body Mass (g)        342 non-null    float64\n",
      " 4   Delta 15 N (o/oo)    330 non-null    float64\n",
      " 5   Delta 13 C (o/oo)    331 non-null    float64\n",
      "dtypes: float64(6)\n",
      "memory usage: 16.2 KB\n"
     ]
    }
   ],
   "source": [
    "animalData.drop(['Region','Stage','Individual ID','Comments'], axis=1, inplace=True)\n",
    "animalData.info()"
   ]
  },
  {
   "cell_type": "markdown",
   "metadata": {},
   "source": [
    "Check the correlation to see what might make sense to graph later"
   ]
  },
  {
   "cell_type": "code",
   "execution_count": 3,
   "metadata": {},
   "outputs": [
    {
     "data": {
      "text/html": [
       "<div>\n",
       "<style scoped>\n",
       "    .dataframe tbody tr th:only-of-type {\n",
       "        vertical-align: middle;\n",
       "    }\n",
       "\n",
       "    .dataframe tbody tr th {\n",
       "        vertical-align: top;\n",
       "    }\n",
       "\n",
       "    .dataframe thead th {\n",
       "        text-align: right;\n",
       "    }\n",
       "</style>\n",
       "<table border=\"1\" class=\"dataframe\">\n",
       "  <thead>\n",
       "    <tr style=\"text-align: right;\">\n",
       "      <th></th>\n",
       "      <th>Culmen Length (mm)</th>\n",
       "      <th>Culmen Depth (mm)</th>\n",
       "      <th>Flipper Length (mm)</th>\n",
       "      <th>Body Mass (g)</th>\n",
       "      <th>Delta 15 N (o/oo)</th>\n",
       "      <th>Delta 13 C (o/oo)</th>\n",
       "    </tr>\n",
       "  </thead>\n",
       "  <tbody>\n",
       "    <tr>\n",
       "      <th>Culmen Length (mm)</th>\n",
       "      <td>1.000</td>\n",
       "      <td>-0.235</td>\n",
       "      <td>0.656</td>\n",
       "      <td>0.595</td>\n",
       "      <td>-0.060</td>\n",
       "      <td>0.189</td>\n",
       "    </tr>\n",
       "    <tr>\n",
       "      <th>Culmen Depth (mm)</th>\n",
       "      <td>-0.235</td>\n",
       "      <td>1.000</td>\n",
       "      <td>-0.584</td>\n",
       "      <td>-0.472</td>\n",
       "      <td>0.606</td>\n",
       "      <td>0.430</td>\n",
       "    </tr>\n",
       "    <tr>\n",
       "      <th>Flipper Length (mm)</th>\n",
       "      <td>0.656</td>\n",
       "      <td>-0.584</td>\n",
       "      <td>1.000</td>\n",
       "      <td>0.871</td>\n",
       "      <td>-0.508</td>\n",
       "      <td>-0.376</td>\n",
       "    </tr>\n",
       "    <tr>\n",
       "      <th>Body Mass (g)</th>\n",
       "      <td>0.595</td>\n",
       "      <td>-0.472</td>\n",
       "      <td>0.871</td>\n",
       "      <td>1.000</td>\n",
       "      <td>-0.538</td>\n",
       "      <td>-0.375</td>\n",
       "    </tr>\n",
       "    <tr>\n",
       "      <th>Delta 15 N (o/oo)</th>\n",
       "      <td>-0.060</td>\n",
       "      <td>0.606</td>\n",
       "      <td>-0.508</td>\n",
       "      <td>-0.538</td>\n",
       "      <td>1.000</td>\n",
       "      <td>0.571</td>\n",
       "    </tr>\n",
       "    <tr>\n",
       "      <th>Delta 13 C (o/oo)</th>\n",
       "      <td>0.189</td>\n",
       "      <td>0.430</td>\n",
       "      <td>-0.376</td>\n",
       "      <td>-0.375</td>\n",
       "      <td>0.571</td>\n",
       "      <td>1.000</td>\n",
       "    </tr>\n",
       "  </tbody>\n",
       "</table>\n",
       "</div>"
      ],
      "text/plain": [
       "                     Culmen Length (mm)  Culmen Depth (mm)  \\\n",
       "Culmen Length (mm)                1.000             -0.235   \n",
       "Culmen Depth (mm)                -0.235              1.000   \n",
       "Flipper Length (mm)               0.656             -0.584   \n",
       "Body Mass (g)                     0.595             -0.472   \n",
       "Delta 15 N (o/oo)                -0.060              0.606   \n",
       "Delta 13 C (o/oo)                 0.189              0.430   \n",
       "\n",
       "                     Flipper Length (mm)  Body Mass (g)  Delta 15 N (o/oo)  \\\n",
       "Culmen Length (mm)                 0.656          0.595             -0.060   \n",
       "Culmen Depth (mm)                 -0.584         -0.472              0.606   \n",
       "Flipper Length (mm)                1.000          0.871             -0.508   \n",
       "Body Mass (g)                      0.871          1.000             -0.538   \n",
       "Delta 15 N (o/oo)                 -0.508         -0.538              1.000   \n",
       "Delta 13 C (o/oo)                 -0.376         -0.375              0.571   \n",
       "\n",
       "                     Delta 13 C (o/oo)  \n",
       "Culmen Length (mm)               0.189  \n",
       "Culmen Depth (mm)                0.430  \n",
       "Flipper Length (mm)             -0.376  \n",
       "Body Mass (g)                   -0.375  \n",
       "Delta 15 N (o/oo)                0.571  \n",
       "Delta 13 C (o/oo)                1.000  "
      ]
     },
     "execution_count": 3,
     "metadata": {},
     "output_type": "execute_result"
    }
   ],
   "source": [
    "animalData.corr().round(3)"
   ]
  },
  {
   "cell_type": "markdown",
   "metadata": {},
   "source": []
  }
 ],
 "metadata": {
  "interpreter": {
   "hash": "5c6de44c681b342ec51b1de181fee9b517a6326e3c382e784e1b8c6142c576ac"
  },
  "kernelspec": {
   "display_name": "Python 3.9.7 64-bit ('base': conda)",
   "language": "python",
   "name": "python3"
  },
  "language_info": {
   "codemirror_mode": {
    "name": "ipython",
    "version": 3
   },
   "file_extension": ".py",
   "mimetype": "text/x-python",
   "name": "python",
   "nbconvert_exporter": "python",
   "pygments_lexer": "ipython3",
   "version": "3.9.7"
  },
  "orig_nbformat": 4
 },
 "nbformat": 4,
 "nbformat_minor": 2
}
