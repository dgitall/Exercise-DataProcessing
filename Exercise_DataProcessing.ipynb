{
 "cells": [
  {
   "cell_type": "code",
   "execution_count": 46,
   "metadata": {},
   "outputs": [],
   "source": [
    "import pandas as pd\n",
    "import matplotlib.pyplot as plt\n"
   ]
  },
  {
   "cell_type": "code",
   "execution_count": 47,
   "metadata": {},
   "outputs": [],
   "source": [
    "\n",
    "\n",
    "songsRawData = pd.read_csv('Data\\ml-03-data-processing-songs-dataset.csv')\n"
   ]
  },
  {
   "cell_type": "code",
   "execution_count": 48,
   "metadata": {},
   "outputs": [
    {
     "name": "stdout",
     "output_type": "stream",
     "text": [
      "             Index         Year  Beats Per Minute (BPM)       Energy  \\\n",
      "count  1994.000000  1987.000000             1985.000000  1986.000000   \n",
      "mean    997.500000  1959.526422              120.230730    59.664149   \n",
      "std     575.762538   250.650856               28.625839    22.159565   \n",
      "min       1.000000    92.000000               15.000000     3.000000   \n",
      "25%     499.250000  1978.000000               99.000000    42.000000   \n",
      "50%     997.500000  1993.000000              119.000000    61.000000   \n",
      "75%    1495.750000  2007.000000              136.000000    78.000000   \n",
      "max    1994.000000  2019.000000              305.000000   100.000000   \n",
      "\n",
      "       Danceability  Loudness (dB)     Liveness     Valence  Acousticness  \\\n",
      "count    970.000000    1987.000000  1986.000000  960.000000   1986.000000   \n",
      "mean      52.983505      -9.009562    19.013092   50.820833     28.897281   \n",
      "std       15.426169       3.652092    16.739697   24.955125     29.020822   \n",
      "min       10.000000     -27.000000     2.000000    5.000000      0.000000   \n",
      "25%       42.000000     -11.000000     9.000000   30.000000      3.000000   \n",
      "50%       53.000000      -8.000000    12.000000   49.000000     18.000000   \n",
      "75%       64.000000      -6.000000    23.000000   71.000000     50.000000   \n",
      "max       96.000000      -2.000000    99.000000   98.000000     99.000000   \n",
      "\n",
      "       Speechiness   Popularity  \n",
      "count  1990.000000  1987.000000  \n",
      "mean      4.989950    59.518873  \n",
      "std       4.402899    14.362661  \n",
      "min       2.000000    11.000000  \n",
      "25%       3.000000    49.000000  \n",
      "50%       4.000000    62.000000  \n",
      "75%       5.000000    71.000000  \n",
      "max      55.000000   100.000000  \n"
     ]
    }
   ],
   "source": [
    "print(songsRawData.describe())\n"
   ]
  },
  {
   "cell_type": "code",
   "execution_count": 49,
   "metadata": {},
   "outputs": [
    {
     "data": {
      "image/png": "[encoded data removed]",
      "text/plain": [
       "<Figure size 432x288 with 1 Axes>"
      ]
     },
     "metadata": {
      "needs_background": "light"
     },
     "output_type": "display_data"
    }
   ],
   "source": [
    "songsData = songsRawData.copy()\n",
    "songsData['Year'] = pd.to_numeric(songsData['Year'])\n",
    "plt.hist(songsData['Year'])\n",
    "plt.show()\n"
   ]
  },
  {
   "cell_type": "markdown",
   "metadata": {},
   "source": [
    "The Year has outlier data that are likely incorrectly entered. The minimum value of 92 may have been a miss-entry for 1992. There may be other similar outliers to handle. "
   ]
  },
  {
   "cell_type": "code",
   "execution_count": 50,
   "metadata": {},
   "outputs": [
    {
     "name": "stdout",
     "output_type": "stream",
     "text": [
      "                                                  Title  \\\n",
      "1567                                Killing In The Name   \n",
      "1568                   Fear of the Dark - 2015 Remaster   \n",
      "1569                                       Bed Of Roses   \n",
      "1570                                    Everybody Hurts   \n",
      "1571                                           Kayleigh   \n",
      "1572  Layla - Acoustic; Live at MTV Unplugged, Bray ...   \n",
      "1573                             I Will Always Love You   \n",
      "1574                                      Nightswimming   \n",
      "1575                               Conquest of Paradise   \n",
      "1576                                             Would?   \n",
      "1577                                 Friday I'm in Love   \n",
      "1578                                  Sharp Dressed Man   \n",
      "1579                                    Man On The Moon   \n",
      "1580                              Gimme All Your Lovin'   \n",
      "1581                                         What's Up?   \n",
      "1582                                           Lavender   \n",
      "1583                              Plush - 2017 Remaster   \n",
      "1584                                             Eloise   \n",
      "1585                                       Harvest Moon   \n",
      "1586                                              Drive   \n",
      "1587                                             Remedy   \n",
      "1588                        I've Got Dreams to Remember   \n",
      "1589                                        Jump Around   \n",
      "1590                                        Human Touch   \n",
      "1591                            Vlieg Met Me Mee - Live   \n",
      "1592                                      In These Arms   \n",
      "1593                                       Out Of Space   \n",
      "1594                                     Find The River   \n",
      "1595                                     I Have Nothing   \n",
      "1596                                            Rosalyn   \n",
      "1597                                            Rooster   \n",
      "1598                                                Why   \n",
      "1599                                 Rhythm Is A Dancer   \n",
      "1600                                     Keep The Faith   \n",
      "1601                                            No Rain   \n",
      "\n",
      "                        Artist  Year  \n",
      "1567  Rage Against The Machine  92.0  \n",
      "1568               Iron Maiden  92.0  \n",
      "1569                  Bon Jovi  92.0  \n",
      "1570                    R.E.M.  92.0  \n",
      "1571                 Marillion  92.0  \n",
      "1572              Eric Clapton  92.0  \n",
      "1573           Whitney Houston  92.0  \n",
      "1574                    R.E.M.  92.0  \n",
      "1575                  Vangelis  92.0  \n",
      "1576           Alice In Chains  92.0  \n",
      "1577                  The Cure  92.0  \n",
      "1578                    ZZ Top  92.0  \n",
      "1579                    R.E.M.  92.0  \n",
      "1580                    ZZ Top  92.0  \n",
      "1581             4 Non Blondes  92.0  \n",
      "1582                 Marillion  92.0  \n",
      "1583       Stone Temple Pilots  92.0  \n",
      "1584                Barry Ryan  92.0  \n",
      "1585                Neil Young  92.0  \n",
      "1586                    R.E.M.  92.0  \n",
      "1587          The Black Crowes  92.0  \n",
      "1588              Otis Redding  92.0  \n",
      "1589             House Of Pain  92.0  \n",
      "1590         Bruce Springsteen  92.0  \n",
      "1591             Paul de Leeuw  92.0  \n",
      "1592                  Bon Jovi  92.0  \n",
      "1593               The Prodigy  92.0  \n",
      "1594                    R.E.M.  92.0  \n",
      "1595           Whitney Houston  92.0  \n",
      "1596                   Vitesse  92.0  \n",
      "1597           Alice In Chains  92.0  \n",
      "1598              Annie Lennox  92.0  \n",
      "1599                     SNAP!  92.0  \n",
      "1600                  Bon Jovi  92.0  \n",
      "1601               Blind Melon  92.0  \n"
     ]
    }
   ],
   "source": [
    "print(songsData[songsData['Year'] < 1900][['Title', 'Artist', 'Year']])\n"
   ]
  },
  {
   "cell_type": "markdown",
   "metadata": {},
   "source": [
    "Googling some of the songs on the list indicate that they were either released or rereleased in 1992. The outliers can be replaced with 1992."
   ]
  },
  {
   "cell_type": "code",
   "execution_count": 51,
   "metadata": {},
   "outputs": [
    {
     "name": "stdout",
     "output_type": "stream",
     "text": [
      "             Index         Year  Beats Per Minute (BPM)       Energy  \\\n",
      "count  1994.000000  1987.000000             1985.000000  1986.000000   \n",
      "mean    997.500000  1992.993961              120.230730    59.664149   \n",
      "std     575.762538    16.111644               28.625839    22.159565   \n",
      "min       1.000000  1956.000000               15.000000     3.000000   \n",
      "25%     499.250000  1979.000000               99.000000    42.000000   \n",
      "50%     997.500000  1993.000000              119.000000    61.000000   \n",
      "75%    1495.750000  2007.000000              136.000000    78.000000   \n",
      "max    1994.000000  2019.000000              305.000000   100.000000   \n",
      "\n",
      "       Danceability  Loudness (dB)     Liveness     Valence  Acousticness  \\\n",
      "count    970.000000    1987.000000  1986.000000  960.000000   1986.000000   \n",
      "mean      52.983505      -9.009562    19.013092   50.820833     28.897281   \n",
      "std       15.426169       3.652092    16.739697   24.955125     29.020822   \n",
      "min       10.000000     -27.000000     2.000000    5.000000      0.000000   \n",
      "25%       42.000000     -11.000000     9.000000   30.000000      3.000000   \n",
      "50%       53.000000      -8.000000    12.000000   49.000000     18.000000   \n",
      "75%       64.000000      -6.000000    23.000000   71.000000     50.000000   \n",
      "max       96.000000      -2.000000    99.000000   98.000000     99.000000   \n",
      "\n",
      "       Speechiness   Popularity  \n",
      "count  1990.000000  1987.000000  \n",
      "mean      4.989950    59.518873  \n",
      "std       4.402899    14.362661  \n",
      "min       2.000000    11.000000  \n",
      "25%       3.000000    49.000000  \n",
      "50%       4.000000    62.000000  \n",
      "75%       5.000000    71.000000  \n",
      "max      55.000000   100.000000  \n"
     ]
    },
    {
     "data": {
      "image/png": "[encoded data removed]",
      "text/plain": [
       "<Figure size 432x288 with 1 Axes>"
      ]
     },
     "metadata": {
      "needs_background": "light"
     },
     "output_type": "display_data"
    },
    {
     "name": "stdout",
     "output_type": "stream",
     "text": [
      "<class 'pandas.core.frame.DataFrame'>\n",
      "RangeIndex: 1994 entries, 0 to 1993\n",
      "Data columns (total 16 columns):\n",
      " #   Column                  Non-Null Count  Dtype  \n",
      "---  ------                  --------------  -----  \n",
      " 0   Index                   1994 non-null   int64  \n",
      " 1   Title                   1991 non-null   object \n",
      " 2   Artist                  1986 non-null   object \n",
      " 3   Top Genre               1986 non-null   object \n",
      " 4   Year                    1987 non-null   float64\n",
      " 5   Month                   1994 non-null   object \n",
      " 6   Beats Per Minute (BPM)  1985 non-null   float64\n",
      " 7   Energy                  1986 non-null   float64\n",
      " 8   Danceability            970 non-null    float64\n",
      " 9   Loudness (dB)           1987 non-null   float64\n",
      " 10  Liveness                1986 non-null   float64\n",
      " 11  Valence                 960 non-null    float64\n",
      " 12  Length (Duration)       1985 non-null   object \n",
      " 13  Acousticness            1986 non-null   float64\n",
      " 14  Speechiness             1990 non-null   float64\n",
      " 15  Popularity              1987 non-null   float64\n",
      "dtypes: float64(10), int64(1), object(5)\n",
      "memory usage: 249.4+ KB\n",
      "None\n"
     ]
    }
   ],
   "source": [
    "songsData['Year'] = songsData['Year'].replace(92, 1992)\n",
    "print(songsData.describe())\n",
    "plt.hist(songsData['Year'])\n",
    "plt.show()\n",
    "print(songsData.info())"
   ]
  },
  {
   "cell_type": "markdown",
   "metadata": {},
   "source": [
    "There is something weird with the Length column in that it is an object."
   ]
  },
  {
   "cell_type": "code",
   "execution_count": 52,
   "metadata": {},
   "outputs": [
    {
     "name": "stdout",
     "output_type": "stream",
     "text": [
      "<bound method Series.unique of 0       201\n",
      "1       207\n",
      "2       341\n",
      "3       269\n",
      "4       256\n",
      "       ... \n",
      "1989    128\n",
      "1990    136\n",
      "1991    162\n",
      "1992    324\n",
      "1993    148\n",
      "Name: Length (Duration), Length: 1994, dtype: object>\n",
      "Bad Length: 1,412\n",
      "Bad Length: 1,121\n",
      "Bad Length: 1,367\n",
      "Bad Length: 1,292\n",
      "<bound method Series.unique of 0       201.0\n",
      "1       207.0\n",
      "2       341.0\n",
      "3       269.0\n",
      "4       256.0\n",
      "        ...  \n",
      "1989    128.0\n",
      "1990    136.0\n",
      "1991    162.0\n",
      "1992    324.0\n",
      "1993    148.0\n",
      "Name: Length (Duration), Length: 1994, dtype: float64>\n"
     ]
    }
   ],
   "source": [
    "print(songsData['Length (Duration)'].unique)\n",
    "# Check if all are Numeric\n",
    "for idx, row in songsData.iterrows():\n",
    "    try: \n",
    "        test = pd.to_numeric(row['Length (Duration)'])\n",
    "    except: \n",
    "        print(f\"Bad Length: {row['Length (Duration)']}\")\n",
    "\n",
    "# There are commas messing things up in our conversion function\n",
    "# so, remove the commas and try converting again. (Use to_numeric because of NaNs)\n",
    "songsData['Length (Duration)'] = songsData['Length (Duration)'].str.replace(',', '')\n",
    "# Check if all are Numeric\n",
    "for idx, row in songsData.iterrows():\n",
    "    try:\n",
    "        row['Length (Duration)'] = pd.to_numeric(row['Length (Duration)'])\n",
    "    except:\n",
    "        print(f\"Bad Length: {row['Length (Duration)']}\")\n",
    "# Change the dtype for the column now that all the values are fixed\n",
    "songsData['Length (Duration)'] = songsData['Length (Duration)'].astype(float)\n",
    "print(songsData['Length (Duration)'].unique)\n"
   ]
  },
  {
   "cell_type": "markdown",
   "metadata": {},
   "source": [
    "2. There are 1994 observations but many of the columns have a lot of missing values. In particular, Daceability and Valence. Title, Artist, Genre, Month, and Length are non-numeric types. Remove all rows that have over half the values missing."
   ]
  },
  {
   "cell_type": "code",
   "execution_count": 53,
   "metadata": {},
   "outputs": [
    {
     "name": "stdout",
     "output_type": "stream",
     "text": [
      "<class 'pandas.core.frame.DataFrame'>\n",
      "Int64Index: 1987 entries, 0 to 1993\n",
      "Data columns (total 16 columns):\n",
      " #   Column                  Non-Null Count  Dtype  \n",
      "---  ------                  --------------  -----  \n",
      " 0   Index                   1987 non-null   int64  \n",
      " 1   Title                   1987 non-null   object \n",
      " 2   Artist                  1984 non-null   object \n",
      " 3   Top Genre               1983 non-null   object \n",
      " 4   Year                    1984 non-null   float64\n",
      " 5   Month                   1987 non-null   object \n",
      " 6   Beats Per Minute (BPM)  1983 non-null   float64\n",
      " 7   Energy                  1983 non-null   float64\n",
      " 8   Danceability            970 non-null    float64\n",
      " 9   Loudness (dB)           1983 non-null   float64\n",
      " 10  Liveness                1983 non-null   float64\n",
      " 11  Valence                 960 non-null    float64\n",
      " 12  Length (Duration)       1982 non-null   float64\n",
      " 13  Acousticness            1984 non-null   float64\n",
      " 14  Speechiness             1986 non-null   float64\n",
      " 15  Popularity              1985 non-null   float64\n",
      "dtypes: float64(11), int64(1), object(4)\n",
      "memory usage: 263.9+ KB\n",
      "None\n"
     ]
    },
    {
     "data": {
      "text/html": [
       "<div>\n",
       "<style scoped>\n",
       "    .dataframe tbody tr th:only-of-type {\n",
       "        vertical-align: middle;\n",
       "    }\n",
       "\n",
       "    .dataframe tbody tr th {\n",
       "        vertical-align: top;\n",
       "    }\n",
       "\n",
       "    .dataframe thead th {\n",
       "        text-align: right;\n",
       "    }\n",
       "</style>\n",
       "<table border=\"1\" class=\"dataframe\">\n",
       "  <thead>\n",
       "    <tr style=\"text-align: right;\">\n",
       "      <th></th>\n",
       "      <th>Index</th>\n",
       "      <th>Title</th>\n",
       "      <th>Artist</th>\n",
       "      <th>Top Genre</th>\n",
       "      <th>Year</th>\n",
       "      <th>Month</th>\n",
       "      <th>Beats Per Minute (BPM)</th>\n",
       "      <th>Energy</th>\n",
       "      <th>Danceability</th>\n",
       "      <th>Loudness (dB)</th>\n",
       "      <th>Liveness</th>\n",
       "      <th>Valence</th>\n",
       "      <th>Length (Duration)</th>\n",
       "      <th>Acousticness</th>\n",
       "      <th>Speechiness</th>\n",
       "      <th>Popularity</th>\n",
       "    </tr>\n",
       "  </thead>\n",
       "  <tbody>\n",
       "    <tr>\n",
       "      <th>886</th>\n",
       "      <td>887</td>\n",
       "      <td>Starman - 2012 Remaster</td>\n",
       "      <td>NaN</td>\n",
       "      <td>NaN</td>\n",
       "      <td>NaN</td>\n",
       "      <td>2</td>\n",
       "      <td>NaN</td>\n",
       "      <td>NaN</td>\n",
       "      <td>NaN</td>\n",
       "      <td>NaN</td>\n",
       "      <td>54.0</td>\n",
       "      <td>NaN</td>\n",
       "      <td>254.0</td>\n",
       "      <td>17.0</td>\n",
       "      <td>3.0</td>\n",
       "      <td>74.0</td>\n",
       "    </tr>\n",
       "    <tr>\n",
       "      <th>1109</th>\n",
       "      <td>1110</td>\n",
       "      <td>Fire</td>\n",
       "      <td>NaN</td>\n",
       "      <td>dance pop</td>\n",
       "      <td>1978.0</td>\n",
       "      <td>6</td>\n",
       "      <td>NaN</td>\n",
       "      <td>NaN</td>\n",
       "      <td>NaN</td>\n",
       "      <td>NaN</td>\n",
       "      <td>NaN</td>\n",
       "      <td>NaN</td>\n",
       "      <td>NaN</td>\n",
       "      <td>20.0</td>\n",
       "      <td>3.0</td>\n",
       "      <td>56.0</td>\n",
       "    </tr>\n",
       "    <tr>\n",
       "      <th>1887</th>\n",
       "      <td>1888</td>\n",
       "      <td>Respect</td>\n",
       "      <td>NaN</td>\n",
       "      <td>NaN</td>\n",
       "      <td>NaN</td>\n",
       "      <td>9</td>\n",
       "      <td>NaN</td>\n",
       "      <td>NaN</td>\n",
       "      <td>NaN</td>\n",
       "      <td>-5.0</td>\n",
       "      <td>5.0</td>\n",
       "      <td>NaN</td>\n",
       "      <td>NaN</td>\n",
       "      <td>16.0</td>\n",
       "      <td>4.0</td>\n",
       "      <td>73.0</td>\n",
       "    </tr>\n",
       "  </tbody>\n",
       "</table>\n",
       "</div>"
      ],
      "text/plain": [
       "      Index                    Title Artist  Top Genre    Year Month  \\\n",
       "886     887  Starman - 2012 Remaster    NaN        NaN     NaN     2   \n",
       "1109   1110                     Fire    NaN  dance pop  1978.0     6   \n",
       "1887   1888                  Respect    NaN        NaN     NaN     9   \n",
       "\n",
       "      Beats Per Minute (BPM)  Energy  Danceability  Loudness (dB)  Liveness  \\\n",
       "886                      NaN     NaN           NaN            NaN      54.0   \n",
       "1109                     NaN     NaN           NaN            NaN       NaN   \n",
       "1887                     NaN     NaN           NaN           -5.0       5.0   \n",
       "\n",
       "      Valence  Length (Duration)  Acousticness  Speechiness  Popularity  \n",
       "886       NaN              254.0          17.0          3.0        74.0  \n",
       "1109      NaN                NaN          20.0          3.0        56.0  \n",
       "1887      NaN                NaN          16.0          4.0        73.0  "
      ]
     },
     "execution_count": 53,
     "metadata": {},
     "output_type": "execute_result"
    }
   ],
   "source": [
    "\n",
    "songsData.dropna(thresh=len(songsData.axes[1])/2, axis=0, inplace=True)\n",
    "print(songsData.info())\n",
    "songsData[songsData['Artist'].isna()]\n"
   ]
  },
  {
   "cell_type": "markdown",
   "metadata": {},
   "source": [
    "This removed ten rows from the dataframe that were missing most of their values. Do the same thing for the columns.\n"
   ]
  },
  {
   "cell_type": "code",
   "execution_count": 54,
   "metadata": {},
   "outputs": [
    {
     "name": "stdout",
     "output_type": "stream",
     "text": [
      "<class 'pandas.core.frame.DataFrame'>\n",
      "Int64Index: 1987 entries, 0 to 1993\n",
      "Data columns (total 14 columns):\n",
      " #   Column                  Non-Null Count  Dtype  \n",
      "---  ------                  --------------  -----  \n",
      " 0   Index                   1987 non-null   int64  \n",
      " 1   Title                   1987 non-null   object \n",
      " 2   Artist                  1984 non-null   object \n",
      " 3   Top Genre               1983 non-null   object \n",
      " 4   Year                    1984 non-null   float64\n",
      " 5   Month                   1987 non-null   object \n",
      " 6   Beats Per Minute (BPM)  1983 non-null   float64\n",
      " 7   Energy                  1983 non-null   float64\n",
      " 8   Loudness (dB)           1983 non-null   float64\n",
      " 9   Liveness                1983 non-null   float64\n",
      " 10  Length (Duration)       1982 non-null   float64\n",
      " 11  Acousticness            1984 non-null   float64\n",
      " 12  Speechiness             1986 non-null   float64\n",
      " 13  Popularity              1985 non-null   float64\n",
      "dtypes: float64(9), int64(1), object(4)\n",
      "memory usage: 232.9+ KB\n",
      "None\n"
     ]
    }
   ],
   "source": [
    "\n",
    "songsData.dropna(thresh=len(songsData.axes[0])/2+1, axis=1, inplace=True)\n",
    "print(songsData.info())\n"
   ]
  },
  {
   "cell_type": "markdown",
   "metadata": {},
   "source": [
    "This removed 3 columns"
   ]
  },
  {
   "cell_type": "markdown",
   "metadata": {},
   "source": [
    "3. Calculate descriptive statistics for each column. Let's define an outlier as a value at least 3 standard deviations away from the mean. Which columns have outliers? What are those values?"
   ]
  },
  {
   "cell_type": "code",
   "execution_count": 55,
   "metadata": {},
   "outputs": [
    {
     "name": "stdout",
     "output_type": "stream",
     "text": [
      "Year\n",
      "Mean/Std Dev: 1992.9863911290322, 16.112980965757565\n",
      "Upper/Lower: 2041.325334026305 to 1944.6474482317594\n",
      "Outliers: []\n",
      "Beats Per Minute (BPM)\n",
      "Mean/Std Dev: 120.23449319213313, 28.63992295757747\n",
      "Upper/Lower: 206.15426206486552 to 34.314724319400725\n",
      "Outliers: [18.0, 305.0, 15.0, 297.0]\n",
      "Energy\n",
      "Mean/Std Dev: 59.6535552193646, 22.170413649509676\n",
      "Upper/Lower: 126.16479616789363 to -6.857685729164437\n",
      "Outliers: []\n",
      "Loudness (dB)\n",
      "Mean/Std Dev: -9.013615733736762, 3.653139062875775\n",
      "Upper/Lower: 1.9458014548905638 to -19.973032922364087\n",
      "Outliers: [-21.0, -20.0, -22.0, -22.0, -20.0, -20.0, -24.0, -20.0, -21.0, -22.0, -24.0, -27.0, -21.0, -21.0, -22.0, -21.0, -21.0, -20.0, -21.0, -22.0, -22.0, -21.0]\n",
      "Liveness\n",
      "Mean/Std Dev: 19.019667170953102, 16.75041203132442\n",
      "Upper/Lower: 69.27090326492636 to -31.23156892302016\n",
      "Outliers: [81.0, 70.0, 93.0, 79.0, 70.0, 97.0, 70.0, 83.0, 72.0, 97.0, 97.0, 87.0, 96.0, 71.0, 99.0, 92.0, 78.0, 95.0, 71.0, 90.0, 81.0, 95.0, 87.0, 91.0, 85.0, 89.0, 76.0, 73.0, 72.0, 85.0, 73.0, 86.0, 76.0, 73.0, 82.0, 77.0, 97.0, 85.0, 99.0, 78.0, 98.0, 96.0, 93.0, 85.0, 94.0, 77.0, 91.0, 96.0, 84.0, 97.0, 76.0, 73.0, 92.0, 80.0, 76.0, 83.0, 76.0]\n",
      "Length (Duration)\n",
      "Mean/Std Dev: 262.61654894046416, 93.81970792832963\n",
      "Upper/Lower: 544.075672725453 to -18.842574844524734\n",
      "Outliers: [639.0, 629.0, 602.0, 809.0, 598.0, 598.0, 671.0, 620.0, 663.0, 1412.0, 581.0, 1121.0, 559.0, 575.0, 1367.0, 811.0, 576.0, 715.0, 653.0, 590.0, 966.0, 859.0, 659.0, 564.0, 703.0, 1292.0]\n"
     ]
    },
    {
     "name": "stderr",
     "output_type": "stream",
     "text": [
      "D:\\Users\\Darrell\\anaconda3\\lib\\site-packages\\pandas\\core\\indexing.py:1732: SettingWithCopyWarning: \n",
      "A value is trying to be set on a copy of a slice from a DataFrame\n",
      "\n",
      "See the caveats in the documentation: https://pandas.pydata.org/pandas-docs/stable/user_guide/indexing.html#returning-a-view-versus-a-copy\n",
      "  self._setitem_single_block(indexer, value, name)\n"
     ]
    },
    {
     "name": "stdout",
     "output_type": "stream",
     "text": [
      "Acousticness\n",
      "Mean/Std Dev: 28.916834677419356, 29.02880199553372\n",
      "Upper/Lower: 116.00324066402052 to -58.169571309181805\n",
      "Outliers: []\n",
      "Speechiness\n",
      "Mean/Std Dev: 4.991440080563947, 4.407050367050247\n",
      "Upper/Lower: 18.21259118171469 to -8.229711020586794\n",
      "Outliers: [25.0, 26.0, 30.0, 23.0, 24.0, 19.0, 24.0, 20.0, 39.0, 23.0, 20.0, 19.0, 32.0, 19.0, 24.0, 44.0, 30.0, 24.0, 25.0, 31.0, 20.0, 46.0, 38.0, 55.0, 22.0, 23.0, 32.0, 36.0, 19.0, 31.0, 26.0, 28.0, 30.0, 20.0, 30.0, 29.0, 31.0, 19.0, 27.0, 32.0, 39.0, 41.0]\n",
      "Popularity\n",
      "Mean/Std Dev: 59.51183879093199, 14.366704685570326\n",
      "Upper/Lower: 102.61195284764297 to 16.41172473422101\n",
      "Outliers: [16.0, 14.0, 15.0, 13.0, 16.0, 16.0, 15.0, 12.0, 11.0]\n",
      "120.15680180169872\n",
      "28.129837097634844\n"
     ]
    }
   ],
   "source": [
    "# loop through all of the columns of type float64. Need to do to avoid failure\n",
    "# when trying to evaluate strings.\n",
    "for name, values in songsData.select_dtypes('float64').iteritems():\n",
    "    mean = pd.Series.mean(values)\n",
    "    stddev = pd.Series.std(values)\n",
    "    upper = mean + 3*stddev\n",
    "    lower = mean - 3*stddev\n",
    "    print(name)\n",
    "    print(f\"Mean/Std Dev: {mean}, {stddev}\")\n",
    "    print(f\"Upper/Lower: {upper} to {lower}\")\n",
    "    OutOfBounds = []\n",
    "    for idx, value in enumerate(values):\n",
    "        # If we have outliers add them to the list to print\n",
    "        # Also, do a winsorizing by setting them to the nearest boundary. \n",
    "        if not pd.isna(value):\n",
    "            if (value > upper):\n",
    "                OutOfBounds.append(value)\n",
    "                songsData[name].iloc[idx] = upper\n",
    "            elif (value < lower):\n",
    "                OutOfBounds.append(value)\n",
    "                songsData[name].iloc[idx] = lower\n",
    "\n",
    "    print(f\"Outliers: {OutOfBounds}\")\n",
    "print(pd.Series.mean(songsData['Beats Per Minute (BPM)']))\n",
    "print(pd.Series.std(songsData['Beats Per Minute (BPM)']))\n",
    "\n",
    "\n"
   ]
  },
  {
   "cell_type": "markdown",
   "metadata": {},
   "source": [
    "4. With the remaining columns, use scikit-learn to impute missing values. For continuous features, fill in the mean. For categorical features, fill in the mode."
   ]
  },
  {
   "cell_type": "code",
   "execution_count": 56,
   "metadata": {},
   "outputs": [
    {
     "name": "stdout",
     "output_type": "stream",
     "text": [
      "<class 'pandas.core.frame.DataFrame'>\n",
      "Int64Index: 1987 entries, 0 to 1993\n",
      "Data columns (total 14 columns):\n",
      " #   Column                  Non-Null Count  Dtype  \n",
      "---  ------                  --------------  -----  \n",
      " 0   Index                   1987 non-null   int64  \n",
      " 1   Title                   1987 non-null   object \n",
      " 2   Artist                  1984 non-null   object \n",
      " 3   Top Genre               1983 non-null   object \n",
      " 4   Year                    1984 non-null   float64\n",
      " 5   Month                   1987 non-null   object \n",
      " 6   Beats Per Minute (BPM)  1983 non-null   float64\n",
      " 7   Energy                  1983 non-null   float64\n",
      " 8   Loudness (dB)           1983 non-null   float64\n",
      " 9   Liveness                1983 non-null   float64\n",
      " 10  Length (Duration)       1982 non-null   float64\n",
      " 11  Acousticness            1984 non-null   float64\n",
      " 12  Speechiness             1986 non-null   float64\n",
      " 13  Popularity              1985 non-null   float64\n",
      "dtypes: float64(9), int64(1), object(4)\n",
      "memory usage: 232.9+ KB\n",
      "None\n"
     ]
    }
   ],
   "source": [
    "# Remember what types the columns are\n",
    "print(songsData.info())"
   ]
  },
  {
   "cell_type": "code",
   "execution_count": 57,
   "metadata": {},
   "outputs": [
    {
     "name": "stdout",
     "output_type": "stream",
     "text": [
      "<class 'pandas.core.frame.DataFrame'>\n",
      "Int64Index: 1987 entries, 0 to 1993\n",
      "Data columns (total 14 columns):\n",
      " #   Column                  Non-Null Count  Dtype  \n",
      "---  ------                  --------------  -----  \n",
      " 0   Index                   1987 non-null   int64  \n",
      " 1   Title                   1987 non-null   object \n",
      " 2   Artist                  1984 non-null   object \n",
      " 3   Top Genre               1983 non-null   object \n",
      " 4   Year                    1987 non-null   float64\n",
      " 5   Month                   1987 non-null   object \n",
      " 6   Beats Per Minute (BPM)  1987 non-null   float64\n",
      " 7   Energy                  1987 non-null   float64\n",
      " 8   Loudness (dB)           1987 non-null   float64\n",
      " 9   Liveness                1987 non-null   float64\n",
      " 10  Length (Duration)       1987 non-null   float64\n",
      " 11  Acousticness            1987 non-null   float64\n",
      " 12  Speechiness             1987 non-null   float64\n",
      " 13  Popularity              1987 non-null   float64\n",
      "dtypes: float64(9), int64(1), object(4)\n",
      "memory usage: 232.9+ KB\n",
      "None\n"
     ]
    }
   ],
   "source": [
    "from sklearn.impute import SimpleImputer\n",
    "import numpy as np\n",
    "\n",
    "## Impute the numerical values to the mean\n",
    "imp_mean = SimpleImputer(missing_values=np.nan, strategy='mean')\n",
    "for name, values in songsData.select_dtypes('float64').iteritems():\n",
    "    songsData[name] = imp_mean.fit_transform(\n",
    "        songsData[name].to_numpy().reshape(-1, 1))\n",
    "\n",
    "print(songsData.info())"
   ]
  },
  {
   "cell_type": "code",
   "execution_count": 58,
   "metadata": {},
   "outputs": [
    {
     "name": "stdout",
     "output_type": "stream",
     "text": [
      "<class 'pandas.core.frame.DataFrame'>\n",
      "Int64Index: 1987 entries, 0 to 1993\n",
      "Data columns (total 14 columns):\n",
      " #   Column                  Non-Null Count  Dtype  \n",
      "---  ------                  --------------  -----  \n",
      " 0   Index                   1987 non-null   int64  \n",
      " 1   Title                   1987 non-null   object \n",
      " 2   Artist                  1987 non-null   object \n",
      " 3   Top Genre               1987 non-null   object \n",
      " 4   Year                    1987 non-null   float64\n",
      " 5   Month                   1987 non-null   object \n",
      " 6   Beats Per Minute (BPM)  1987 non-null   float64\n",
      " 7   Energy                  1987 non-null   float64\n",
      " 8   Loudness (dB)           1987 non-null   float64\n",
      " 9   Liveness                1987 non-null   float64\n",
      " 10  Length (Duration)       1987 non-null   float64\n",
      " 11  Acousticness            1987 non-null   float64\n",
      " 12  Speechiness             1987 non-null   float64\n",
      " 13  Popularity              1987 non-null   float64\n",
      "dtypes: float64(9), int64(1), object(4)\n",
      "memory usage: 232.9+ KB\n",
      "None\n"
     ]
    }
   ],
   "source": [
    "## Impute the categorical values to the mode\n",
    "imp_mean = SimpleImputer(missing_values=np.nan, strategy='most_frequent')\n",
    "for name, values in songsData.select_dtypes('object').iteritems():\n",
    "    songsData[name] = imp_mean.fit_transform(\n",
    "        songsData[name].to_numpy().reshape(-1, 1))\n",
    "\n",
    "print(songsData.info())\n"
   ]
  },
  {
   "cell_type": "markdown",
   "metadata": {},
   "source": [
    "5. Combine the date-related columns into one column with the Pandas to_datetime() method, then use that column to create a numeric Age column (in years). Calculate Age based on today's date; it doesn't have to be a whole number. Once you've created the Age column, remove the other date-related columns, including the one you created with Pandas."
   ]
  },
  {
   "cell_type": "code",
   "execution_count": 59,
   "metadata": {},
   "outputs": [
    {
     "data": {
      "text/plain": [
       "array(['10', '3', '6', '1', '8', '2', '9', '12', '11', '4', '7', '5',\n",
       "       'Jan', 'Dec', 'Sep', 'Apr', 'Jun', 'May'], dtype=object)"
      ]
     },
     "execution_count": 59,
     "metadata": {},
     "output_type": "execute_result"
    }
   ],
   "source": [
    "songsData['Month'].unique()"
   ]
  },
  {
   "cell_type": "markdown",
   "metadata": {},
   "source": [
    "The month column is string object and contains a mixture of numeric values and short month names. We need to pull out the short month names and convert to numeric."
   ]
  },
  {
   "cell_type": "code",
   "execution_count": 60,
   "metadata": {},
   "outputs": [
    {
     "data": {
      "text/plain": [
       "array(['10', '3', '6', '1', '8', '2', '9', '12', '11', '4', '7', '5', 1,\n",
       "       12, 9, 4, 6, 5], dtype=object)"
      ]
     },
     "execution_count": 60,
     "metadata": {},
     "output_type": "execute_result"
    }
   ],
   "source": [
    "import calendar \n",
    "MonthAbbr = list(calendar.month_abbr)\n",
    "for abbr in MonthAbbr:\n",
    "    songsData['Month'].replace(abbr, MonthAbbr.index(abbr), inplace=True)\n",
    "songsData['Month'].unique()\n",
    "\n"
   ]
  },
  {
   "cell_type": "code",
   "execution_count": 61,
   "metadata": {},
   "outputs": [
    {
     "name": "stdout",
     "output_type": "stream",
     "text": [
      "<class 'pandas.core.frame.DataFrame'>\n",
      "Int64Index: 1987 entries, 0 to 1993\n",
      "Data columns (total 14 columns):\n",
      " #   Column                  Non-Null Count  Dtype  \n",
      "---  ------                  --------------  -----  \n",
      " 0   Index                   1987 non-null   int64  \n",
      " 1   Title                   1987 non-null   object \n",
      " 2   Artist                  1987 non-null   object \n",
      " 3   Top Genre               1987 non-null   object \n",
      " 4   Year                    1987 non-null   object \n",
      " 5   Month                   1987 non-null   object \n",
      " 6   Beats Per Minute (BPM)  1987 non-null   float64\n",
      " 7   Energy                  1987 non-null   float64\n",
      " 8   Loudness (dB)           1987 non-null   float64\n",
      " 9   Liveness                1987 non-null   float64\n",
      " 10  Length (Duration)       1987 non-null   float64\n",
      " 11  Acousticness            1987 non-null   float64\n",
      " 12  Speechiness             1987 non-null   float64\n",
      " 13  Popularity              1987 non-null   float64\n",
      "dtypes: float64(8), int64(1), object(5)\n",
      "memory usage: 232.9+ KB\n"
     ]
    }
   ],
   "source": [
    "songsData['Month'] = songsData['Month'].astype(str)\n",
    "songsData['Year'] = songsData['Year'].astype(int).astype(str)\n",
    "songsData.info()\n"
   ]
  },
  {
   "cell_type": "markdown",
   "metadata": {},
   "source": [
    "Now, we can combine the month and year into a datatime object and put in another column."
   ]
  },
  {
   "cell_type": "code",
   "execution_count": 62,
   "metadata": {},
   "outputs": [
    {
     "data": {
      "text/plain": [
       "0   2004-10-01\n",
       "1   2000-03-01\n",
       "2   2001-06-01\n",
       "3   2007-01-01\n",
       "4   2002-08-01\n",
       "Name: YearMonth, dtype: datetime64[ns]"
      ]
     },
     "execution_count": 62,
     "metadata": {},
     "output_type": "execute_result"
    }
   ],
   "source": [
    "songsData['YearMonth'] = pd.to_datetime(songsData['Year'] + ' '+ songsData['Month'])\n",
    "songsData['YearMonth'].head()"
   ]
  },
  {
   "cell_type": "markdown",
   "metadata": {},
   "source": [
    "Calculate the age based on the year/month of release and add to an Age column. This is an integer age without fractional values. "
   ]
  },
  {
   "cell_type": "code",
   "execution_count": 63,
   "metadata": {},
   "outputs": [
    {
     "name": "stdout",
     "output_type": "stream",
     "text": [
      "0       17\n",
      "1       21\n",
      "2       20\n",
      "3       15\n",
      "4       19\n",
      "        ..\n",
      "1989    63\n",
      "1990    63\n",
      "1991    62\n",
      "1992    62\n",
      "1993    62\n",
      "Name: Age, Length: 1987, dtype: int32\n"
     ]
    }
   ],
   "source": [
    "now = pd.to_datetime('now')\n",
    "songsData['Age'] = (now - songsData['YearMonth']).astype('<m8[Y]').astype(int)\n",
    "print(songsData['Age'])\n"
   ]
  },
  {
   "cell_type": "code",
   "execution_count": 64,
   "metadata": {},
   "outputs": [
    {
     "name": "stdout",
     "output_type": "stream",
     "text": [
      "<class 'pandas.core.frame.DataFrame'>\n",
      "Int64Index: 1987 entries, 0 to 1993\n",
      "Data columns (total 16 columns):\n",
      " #   Column                  Non-Null Count  Dtype         \n",
      "---  ------                  --------------  -----         \n",
      " 0   Index                   1987 non-null   int64         \n",
      " 1   Title                   1987 non-null   object        \n",
      " 2   Artist                  1987 non-null   object        \n",
      " 3   Top Genre               1987 non-null   object        \n",
      " 4   Year                    1987 non-null   object        \n",
      " 5   Month                   1987 non-null   object        \n",
      " 6   Beats Per Minute (BPM)  1987 non-null   float64       \n",
      " 7   Energy                  1987 non-null   float64       \n",
      " 8   Loudness (dB)           1987 non-null   float64       \n",
      " 9   Liveness                1987 non-null   float64       \n",
      " 10  Length (Duration)       1987 non-null   float64       \n",
      " 11  Acousticness            1987 non-null   float64       \n",
      " 12  Speechiness             1987 non-null   float64       \n",
      " 13  Popularity              1987 non-null   float64       \n",
      " 14  YearMonth               1987 non-null   datetime64[ns]\n",
      " 15  Age                     1987 non-null   int32         \n",
      "dtypes: datetime64[ns](1), float64(8), int32(1), int64(1), object(5)\n",
      "memory usage: 256.1+ KB\n"
     ]
    }
   ],
   "source": [
    "songsData.info()"
   ]
  },
  {
   "cell_type": "markdown",
   "metadata": {},
   "source": [
    "Remove the other date columns leaving only age"
   ]
  },
  {
   "cell_type": "code",
   "execution_count": 65,
   "metadata": {},
   "outputs": [
    {
     "name": "stdout",
     "output_type": "stream",
     "text": [
      "<class 'pandas.core.frame.DataFrame'>\n",
      "Int64Index: 1987 entries, 0 to 1993\n",
      "Data columns (total 13 columns):\n",
      " #   Column                  Non-Null Count  Dtype  \n",
      "---  ------                  --------------  -----  \n",
      " 0   Index                   1987 non-null   int64  \n",
      " 1   Title                   1987 non-null   object \n",
      " 2   Artist                  1987 non-null   object \n",
      " 3   Top Genre               1987 non-null   object \n",
      " 4   Beats Per Minute (BPM)  1987 non-null   float64\n",
      " 5   Energy                  1987 non-null   float64\n",
      " 6   Loudness (dB)           1987 non-null   float64\n",
      " 7   Liveness                1987 non-null   float64\n",
      " 8   Length (Duration)       1987 non-null   float64\n",
      " 9   Acousticness            1987 non-null   float64\n",
      " 10  Speechiness             1987 non-null   float64\n",
      " 11  Popularity              1987 non-null   float64\n",
      " 12  Age                     1987 non-null   int32  \n",
      "dtypes: float64(8), int32(1), int64(1), object(3)\n",
      "memory usage: 209.6+ KB\n"
     ]
    }
   ],
   "source": [
    "songsData.drop(['Year','Month','YearMonth'], axis = 1, inplace=True)\n",
    "songsData.info()"
   ]
  },
  {
   "cell_type": "markdown",
   "metadata": {},
   "source": [
    "6. Create dummy variables for the categorical features. Drop one level of each feature to end up with k-1 dummies, not k."
   ]
  },
  {
   "cell_type": "code",
   "execution_count": 66,
   "metadata": {},
   "outputs": [
    {
     "name": "stdout",
     "output_type": "stream",
     "text": [
      "(1987, 2836)\n"
     ]
    },
    {
     "data": {
      "text/html": [
       "<div>\n",
       "<style scoped>\n",
       "    .dataframe tbody tr th:only-of-type {\n",
       "        vertical-align: middle;\n",
       "    }\n",
       "\n",
       "    .dataframe tbody tr th {\n",
       "        vertical-align: top;\n",
       "    }\n",
       "\n",
       "    .dataframe thead th {\n",
       "        text-align: right;\n",
       "    }\n",
       "</style>\n",
       "<table border=\"1\" class=\"dataframe\">\n",
       "  <thead>\n",
       "    <tr style=\"text-align: right;\">\n",
       "      <th></th>\n",
       "      <th>Index</th>\n",
       "      <th>Beats Per Minute (BPM)</th>\n",
       "      <th>Energy</th>\n",
       "      <th>Loudness (dB)</th>\n",
       "      <th>Liveness</th>\n",
       "      <th>Length (Duration)</th>\n",
       "      <th>Acousticness</th>\n",
       "      <th>Speechiness</th>\n",
       "      <th>Popularity</th>\n",
       "      <th>Age</th>\n",
       "      <th>...</th>\n",
       "      <th>Top Genre_reggae</th>\n",
       "      <th>Top Genre_reggae fusion</th>\n",
       "      <th>Top Genre_rock-and-roll</th>\n",
       "      <th>Top Genre_scottish singer-songwriter</th>\n",
       "      <th>Top Genre_soft rock</th>\n",
       "      <th>Top Genre_stomp and holler</th>\n",
       "      <th>Top Genre_streektaal</th>\n",
       "      <th>Top Genre_trance</th>\n",
       "      <th>Top Genre_uk pop</th>\n",
       "      <th>Top Genre_yacht rock</th>\n",
       "    </tr>\n",
       "  </thead>\n",
       "  <tbody>\n",
       "    <tr>\n",
       "      <th>0</th>\n",
       "      <td>1</td>\n",
       "      <td>157.0</td>\n",
       "      <td>30.0</td>\n",
       "      <td>-14.0</td>\n",
       "      <td>11.0</td>\n",
       "      <td>201.0</td>\n",
       "      <td>94.0</td>\n",
       "      <td>3.0</td>\n",
       "      <td>71.0</td>\n",
       "      <td>17</td>\n",
       "      <td>...</td>\n",
       "      <td>0</td>\n",
       "      <td>0</td>\n",
       "      <td>0</td>\n",
       "      <td>0</td>\n",
       "      <td>0</td>\n",
       "      <td>0</td>\n",
       "      <td>0</td>\n",
       "      <td>0</td>\n",
       "      <td>0</td>\n",
       "      <td>0</td>\n",
       "    </tr>\n",
       "    <tr>\n",
       "      <th>1</th>\n",
       "      <td>2</td>\n",
       "      <td>135.0</td>\n",
       "      <td>79.0</td>\n",
       "      <td>-11.0</td>\n",
       "      <td>17.0</td>\n",
       "      <td>207.0</td>\n",
       "      <td>17.0</td>\n",
       "      <td>7.0</td>\n",
       "      <td>39.0</td>\n",
       "      <td>21</td>\n",
       "      <td>...</td>\n",
       "      <td>0</td>\n",
       "      <td>0</td>\n",
       "      <td>0</td>\n",
       "      <td>0</td>\n",
       "      <td>0</td>\n",
       "      <td>0</td>\n",
       "      <td>0</td>\n",
       "      <td>0</td>\n",
       "      <td>0</td>\n",
       "      <td>0</td>\n",
       "    </tr>\n",
       "    <tr>\n",
       "      <th>2</th>\n",
       "      <td>3</td>\n",
       "      <td>168.0</td>\n",
       "      <td>69.0</td>\n",
       "      <td>-9.0</td>\n",
       "      <td>7.0</td>\n",
       "      <td>341.0</td>\n",
       "      <td>2.0</td>\n",
       "      <td>17.0</td>\n",
       "      <td>69.0</td>\n",
       "      <td>20</td>\n",
       "      <td>...</td>\n",
       "      <td>0</td>\n",
       "      <td>0</td>\n",
       "      <td>0</td>\n",
       "      <td>0</td>\n",
       "      <td>0</td>\n",
       "      <td>0</td>\n",
       "      <td>0</td>\n",
       "      <td>0</td>\n",
       "      <td>0</td>\n",
       "      <td>0</td>\n",
       "    </tr>\n",
       "    <tr>\n",
       "      <th>3</th>\n",
       "      <td>4</td>\n",
       "      <td>173.0</td>\n",
       "      <td>96.0</td>\n",
       "      <td>-4.0</td>\n",
       "      <td>3.0</td>\n",
       "      <td>269.0</td>\n",
       "      <td>0.0</td>\n",
       "      <td>4.0</td>\n",
       "      <td>76.0</td>\n",
       "      <td>15</td>\n",
       "      <td>...</td>\n",
       "      <td>0</td>\n",
       "      <td>0</td>\n",
       "      <td>0</td>\n",
       "      <td>0</td>\n",
       "      <td>0</td>\n",
       "      <td>0</td>\n",
       "      <td>0</td>\n",
       "      <td>0</td>\n",
       "      <td>0</td>\n",
       "      <td>0</td>\n",
       "    </tr>\n",
       "    <tr>\n",
       "      <th>4</th>\n",
       "      <td>5</td>\n",
       "      <td>106.0</td>\n",
       "      <td>82.0</td>\n",
       "      <td>-5.0</td>\n",
       "      <td>10.0</td>\n",
       "      <td>256.0</td>\n",
       "      <td>1.0</td>\n",
       "      <td>3.0</td>\n",
       "      <td>59.0</td>\n",
       "      <td>19</td>\n",
       "      <td>...</td>\n",
       "      <td>0</td>\n",
       "      <td>0</td>\n",
       "      <td>0</td>\n",
       "      <td>0</td>\n",
       "      <td>0</td>\n",
       "      <td>0</td>\n",
       "      <td>0</td>\n",
       "      <td>0</td>\n",
       "      <td>0</td>\n",
       "      <td>0</td>\n",
       "    </tr>\n",
       "  </tbody>\n",
       "</table>\n",
       "<p>5 rows × 2836 columns</p>\n",
       "</div>"
      ],
      "text/plain": [
       "   Index  Beats Per Minute (BPM)  Energy  Loudness (dB)  Liveness  \\\n",
       "0      1                   157.0    30.0          -14.0      11.0   \n",
       "1      2                   135.0    79.0          -11.0      17.0   \n",
       "2      3                   168.0    69.0           -9.0       7.0   \n",
       "3      4                   173.0    96.0           -4.0       3.0   \n",
       "4      5                   106.0    82.0           -5.0      10.0   \n",
       "\n",
       "   Length (Duration)  Acousticness  Speechiness  Popularity  Age  ...  \\\n",
       "0              201.0          94.0          3.0        71.0   17  ...   \n",
       "1              207.0          17.0          7.0        39.0   21  ...   \n",
       "2              341.0           2.0         17.0        69.0   20  ...   \n",
       "3              269.0           0.0          4.0        76.0   15  ...   \n",
       "4              256.0           1.0          3.0        59.0   19  ...   \n",
       "\n",
       "   Top Genre_reggae  Top Genre_reggae fusion  Top Genre_rock-and-roll  \\\n",
       "0                 0                        0                        0   \n",
       "1                 0                        0                        0   \n",
       "2                 0                        0                        0   \n",
       "3                 0                        0                        0   \n",
       "4                 0                        0                        0   \n",
       "\n",
       "   Top Genre_scottish singer-songwriter  Top Genre_soft rock  \\\n",
       "0                                     0                    0   \n",
       "1                                     0                    0   \n",
       "2                                     0                    0   \n",
       "3                                     0                    0   \n",
       "4                                     0                    0   \n",
       "\n",
       "   Top Genre_stomp and holler  Top Genre_streektaal  Top Genre_trance  \\\n",
       "0                           0                     0                 0   \n",
       "1                           0                     0                 0   \n",
       "2                           0                     0                 0   \n",
       "3                           0                     0                 0   \n",
       "4                           0                     0                 0   \n",
       "\n",
       "   Top Genre_uk pop  Top Genre_yacht rock  \n",
       "0                 0                     0  \n",
       "1                 0                     0  \n",
       "2                 0                     0  \n",
       "3                 0                     0  \n",
       "4                 0                     0  \n",
       "\n",
       "[5 rows x 2836 columns]"
      ]
     },
     "execution_count": 66,
     "metadata": {},
     "output_type": "execute_result"
    }
   ],
   "source": [
    "songsData = pd.get_dummies(songsData, drop_first=True)\n",
    "print(songsData.shape)\n",
    "songsData.head()"
   ]
  },
  {
   "cell_type": "code",
   "execution_count": 68,
   "metadata": {},
   "outputs": [],
   "source": [
    "# Clean up a bit and export\n",
    "songsData.drop('Index', axis=1, inplace=True)\n",
    "songsData.reset_index(drop=True, inplace=True)\n",
    "songsData.to_csv('Data/M03DataProcessingClean.csv')\n"
   ]
  }
 ],
 "metadata": {
  "interpreter": {
   "hash": "5c6de44c681b342ec51b1de181fee9b517a6326e3c382e784e1b8c6142c576ac"
  },
  "kernelspec": {
   "display_name": "Python 3.9.7 64-bit ('base': conda)",
   "language": "python",
   "name": "python3"
  },
  "language_info": {
   "codemirror_mode": {
    "name": "ipython",
    "version": 3
   },
   "file_extension": ".py",
   "mimetype": "text/x-python",
   "name": "python",
   "nbconvert_exporter": "python",
   "pygments_lexer": "ipython3",
   "version": "3.9.7"
  },
  "orig_nbformat": 4
 },
 "nbformat": 4,
 "nbformat_minor": 2
}
