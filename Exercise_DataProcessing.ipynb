{
 "cells": [
  {
   "cell_type": "code",
   "execution_count": null,
   "metadata": {},
   "outputs": [],
   "source": [
    "import pandas as pd\n",
    "import matplotlib.pyplot as plt\n"
   ]
  },
  {
   "cell_type": "code",
   "execution_count": null,
   "metadata": {},
   "outputs": [],
   "source": [
    "\n",
    "\n",
    "songsRawData = pd.read_csv('Data\\ml-03-data-processing-songs-dataset.csv')\n"
   ]
  },
  {
   "cell_type": "code",
   "execution_count": null,
   "metadata": {},
   "outputs": [],
   "source": [
    "print(songsRawData.describe())\n"
   ]
  },
  {
   "cell_type": "code",
   "execution_count": null,
   "metadata": {},
   "outputs": [],
   "source": [
    "songsData = songsRawData.copy()\n",
    "songsData['Year'] = pd.to_numeric(songsData['Year'])\n",
    "plt.hist(songsData['Year'])\n",
    "plt.show()\n"
   ]
  },
  {
   "cell_type": "markdown",
   "metadata": {},
   "source": [
    "The Year has outlier data that are likely incorrectly entered. The minimum value of 92 may have been a miss-entry for 1992. There may be other similar outliers to handle. "
   ]
  },
  {
   "cell_type": "code",
   "execution_count": null,
   "metadata": {},
   "outputs": [],
   "source": [
    "print(songsData[songsData['Year'] < 1900][['Title', 'Artist', 'Year']])\n"
   ]
  },
  {
   "cell_type": "markdown",
   "metadata": {},
   "source": [
    "Googling some of the songs on the list indicate that they were either released or rereleased in 1992. The outliers can be replaced with 1992."
   ]
  },
  {
   "cell_type": "code",
   "execution_count": null,
   "metadata": {},
   "outputs": [],
   "source": [
    "songsData['Year'] = songsData['Year'].replace(92, 1992)\n",
    "print(songsData.describe())\n",
    "plt.hist(songsData['Year'])\n",
    "plt.show()\n",
    "print(songsData.info())"
   ]
  },
  {
   "cell_type": "markdown",
   "metadata": {},
   "source": [
    "There is something weird with the Length column in that it is an object."
   ]
  },
  {
   "cell_type": "code",
   "execution_count": null,
   "metadata": {},
   "outputs": [],
   "source": [
    "print(songsData['Length (Duration)'].unique)\n",
    "# Check if all are Numeric\n",
    "for idx, row in songsData.iterrows():\n",
    "    try: \n",
    "        test = pd.to_numeric(row['Length (Duration)'])\n",
    "    except: \n",
    "        print(f\"Bad Length: {row['Length (Duration)']}\")\n",
    "\n",
    "# There are commas messing things up in our conversion function\n",
    "# so, remove the commas and try converting again. (Use to_numeric because of NaNs)\n",
    "songsData['Length (Duration)'] = songsData['Length (Duration)'].str.replace(',', '')\n",
    "# Check if all are Numeric\n",
    "for idx, row in songsData.iterrows():\n",
    "    try:\n",
    "        row['Length (Duration)'] = pd.to_numeric(row['Length (Duration)'])\n",
    "    except:\n",
    "        print(f\"Bad Length: {row['Length (Duration)']}\")\n",
    "# Change the dtype for the column now that all the values are fixed\n",
    "songsData['Length (Duration)'] = songsData['Length (Duration)'].astype(float)\n",
    "print(songsData['Length (Duration)'].unique)\n"
   ]
  },
  {
   "cell_type": "markdown",
   "metadata": {},
   "source": [
    "2. There are 1994 observations but many of the columns have a lot of missing values. In particular, Daceability and Valence. Title, Artist, Genre, Month, and Length are non-numeric types. Remove all rows that have over half the values missing."
   ]
  },
  {
   "cell_type": "code",
   "execution_count": null,
   "metadata": {},
   "outputs": [],
   "source": [
    "\n",
    "songsData.dropna(thresh=len(songsData.axes[1])/2, axis=0, inplace=True)\n",
    "print(songsData.info())\n",
    "songsData[songsData['Artist'].isna()]\n"
   ]
  },
  {
   "cell_type": "markdown",
   "metadata": {},
   "source": [
    "This removed ten rows from the dataframe that were missing most of their values. Do the same thing for the columns.\n"
   ]
  },
  {
   "cell_type": "code",
   "execution_count": null,
   "metadata": {},
   "outputs": [],
   "source": [
    "\n",
    "songsData.dropna(thresh=len(songsData.axes[0])/2+1, axis=1, inplace=True)\n",
    "print(songsData.info())\n"
   ]
  },
  {
   "cell_type": "markdown",
   "metadata": {},
   "source": [
    "This removed 3 columns"
   ]
  },
  {
   "cell_type": "markdown",
   "metadata": {},
   "source": [
    "3. Calculate descriptive statistics for each column. Let's define an outlier as a value at least 3 standard deviations away from the mean. Which columns have outliers? What are those values?"
   ]
  },
  {
   "cell_type": "code",
   "execution_count": null,
   "metadata": {},
   "outputs": [],
   "source": [
    "# loop through all of the columns of type float64. Need to do to avoid failure\n",
    "# when trying to evaluate strings.\n",
    "for name, values in songsData.select_dtypes('float64').iteritems():\n",
    "    mean = pd.Series.mean(values)\n",
    "    stddev = pd.Series.std(values)\n",
    "    upper = mean + 3*stddev\n",
    "    lower = mean - 3*stddev\n",
    "    print(name)\n",
    "    print(f\"Mean/Std Dev: {mean}, {stddev}\")\n",
    "    print(f\"Upper/Lower: {upper} to {lower}\")\n",
    "    OutOfBounds = []\n",
    "    for idx, value in enumerate(values):\n",
    "        # If we have outliers add them to the list to print\n",
    "        # Also, do a winsorizing by setting them to the nearest boundary. \n",
    "        if not pd.isna(value):\n",
    "            if (value > upper):\n",
    "                OutOfBounds.append(value)\n",
    "                songsData[name].iloc[idx] = upper\n",
    "            elif (value < lower):\n",
    "                OutOfBounds.append(value)\n",
    "                songsData[name].iloc[idx] = lower\n",
    "\n",
    "    print(f\"Outliers: {OutOfBounds}\")\n",
    "print(pd.Series.mean(songsData['Beats Per Minute (BPM)']))\n",
    "print(pd.Series.std(songsData['Beats Per Minute (BPM)']))\n",
    "\n",
    "\n"
   ]
  },
  {
   "cell_type": "markdown",
   "metadata": {},
   "source": [
    "4. With the remaining columns, use scikit-learn to impute missing values. For continuous features, fill in the mean. For categorical features, fill in the mode."
   ]
  },
  {
   "cell_type": "code",
   "execution_count": null,
   "metadata": {},
   "outputs": [],
   "source": [
    "# Remember what types the columns are\n",
    "print(songsData.info())"
   ]
  },
  {
   "cell_type": "code",
   "execution_count": null,
   "metadata": {},
   "outputs": [],
   "source": [
    "from sklearn.impute import SimpleImputer\n",
    "import numpy as np\n",
    "\n",
    "## Impute the numerical values to the mean\n",
    "imp_mean = SimpleImputer(missing_values=np.nan, strategy='mean')\n",
    "for name, values in songsData.select_dtypes('float64').iteritems():\n",
    "    songsData[name] = imp_mean.fit_transform(\n",
    "        songsData[name].to_numpy().reshape(-1, 1))\n",
    "\n",
    "print(songsData.info())"
   ]
  },
  {
   "cell_type": "code",
   "execution_count": null,
   "metadata": {},
   "outputs": [],
   "source": [
    "## Impute the categorical values to the mode\n",
    "imp_mean = SimpleImputer(missing_values=np.nan, strategy='most_frequent')\n",
    "for name, values in songsData.select_dtypes('object').iteritems():\n",
    "    songsData[name] = imp_mean.fit_transform(\n",
    "        songsData[name].to_numpy().reshape(-1, 1))\n",
    "\n",
    "print(songsData.info())\n"
   ]
  },
  {
   "cell_type": "markdown",
   "metadata": {},
   "source": [
    "5. Combine the date-related columns into one column with the Pandas to_datetime() method, then use that column to create a numeric Age column (in years). Calculate Age based on today's date; it doesn't have to be a whole number. Once you've created the Age column, remove the other date-related columns, including the one you created with Pandas."
   ]
  },
  {
   "cell_type": "code",
   "execution_count": null,
   "metadata": {},
   "outputs": [],
   "source": [
    "songsData['Month'].unique()"
   ]
  },
  {
   "cell_type": "markdown",
   "metadata": {},
   "source": [
    "The month column is string object and contains a mixture of numeric values and short month names. We need to pull out the short month names and convert to numeric."
   ]
  },
  {
   "cell_type": "code",
   "execution_count": null,
   "metadata": {},
   "outputs": [],
   "source": [
    "import calendar \n",
    "MonthAbbr = list(calendar.month_abbr)\n",
    "for abbr in MonthAbbr:\n",
    "    songsData['Month'].replace(abbr, MonthAbbr.index(abbr), inplace=True)\n",
    "songsData['Month'].unique()\n",
    "\n"
   ]
  },
  {
   "cell_type": "code",
   "execution_count": null,
   "metadata": {},
   "outputs": [],
   "source": [
    "songsData['Month'] = songsData['Month'].astype(str)\n",
    "songsData['Year'] = songsData['Year'].astype(int).astype(str)\n",
    "songsData.info()\n"
   ]
  },
  {
   "cell_type": "markdown",
   "metadata": {},
   "source": [
    "Now, we can combine the month and year into a datatime object and put in another column."
   ]
  },
  {
   "cell_type": "code",
   "execution_count": null,
   "metadata": {},
   "outputs": [],
   "source": [
    "songsData['YearMonth'] = pd.to_datetime(songsData['Year'] + ' '+ songsData['Month'])\n",
    "songsData['YearMonth'].head()"
   ]
  },
  {
   "cell_type": "markdown",
   "metadata": {},
   "source": [
    "Calculate the age based on the year/month of release and add to an Age column. This is an integer age without fractional values. "
   ]
  },
  {
   "cell_type": "code",
   "execution_count": null,
   "metadata": {},
   "outputs": [],
   "source": [
    "now = pd.to_datetime('now')\n",
    "songsData['Age'] = (now - songsData['YearMonth']).astype('<m8[Y]').astype(int)\n",
    "print(songsData['Age'])\n"
   ]
  },
  {
   "cell_type": "code",
   "execution_count": null,
   "metadata": {},
   "outputs": [],
   "source": [
    "songsData.info()"
   ]
  },
  {
   "cell_type": "markdown",
   "metadata": {},
   "source": [
    "Remove the other date columns leaving only age"
   ]
  },
  {
   "cell_type": "code",
   "execution_count": null,
   "metadata": {},
   "outputs": [],
   "source": [
    "songsData.drop(['Year','Month','YearMonth'], axis = 1, inplace=True)\n",
    "songsData.info()"
   ]
  },
  {
   "cell_type": "markdown",
   "metadata": {},
   "source": [
    "6. Create dummy variables for the categorical features. Drop one level of each feature to end up with k-1 dummies, not k."
   ]
  },
  {
   "cell_type": "code",
   "execution_count": null,
   "metadata": {},
   "outputs": [],
   "source": [
    "songsData = pd.get_dummies(songsData, drop_first=True)\n",
    "print(songsData.shape)\n",
    "songsData.head()"
   ]
  },
  {
   "cell_type": "code",
   "execution_count": null,
   "metadata": {},
   "outputs": [],
   "source": [
    "# Clean up a bit and export\n",
    "songsData.drop('Index', axis=1, inplace=True)\n",
    "songsData.reset_index(drop=True, inplace=True)\n",
    "songsData.to_csv('Data/M03DataProcessingClean.csv')\n"
   ]
  }
 ],
 "metadata": {
  "interpreter": {
   "hash": "5c6de44c681b342ec51b1de181fee9b517a6326e3c382e784e1b8c6142c576ac"
  },
  "kernelspec": {
   "display_name": "Python 3.9.7 64-bit ('base': conda)",
   "language": "python",
   "name": "python3"
  },
  "language_info": {
   "codemirror_mode": {
    "name": "ipython",
    "version": 3
   },
   "file_extension": ".py",
   "mimetype": "text/x-python",
   "name": "python",
   "nbconvert_exporter": "python",
   "pygments_lexer": "ipython3",
   "version": "3.9.7"
  },
  "orig_nbformat": 4
 },
 "nbformat": 4,
 "nbformat_minor": 2
}
